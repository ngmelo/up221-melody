{
 "cells": [
  {
   "cell_type": "markdown",
   "id": "b2c45c4b-df96-4e7d-94a5-1d6c76eb94fc",
   "metadata": {},
   "source": [
    "# Food, Agriculture, and Soils: California Counties Legislation\n",
    "\n",
    "This notebook explores county level legislation from the LA County Code of Ordinances, hosted on the Municode Library website, found [here](https://library.municode.com/ca/los_angeles_county/codes/code_of_ordinances). Municode Library does not host an API.\n",
    "\n",
    "More background on structure and powers of county level government [here](https://www.counties.org/general-information/county-structure-0): *\"Most legislative acts, including using the police power, are adopted by ordinance.\"*"
   ]
  },
  {
   "cell_type": "code",
   "execution_count": 5,
   "id": "139524a0-982f-474a-a297-ae7a77042729",
   "metadata": {
    "tags": []
   },
   "outputs": [],
   "source": [
    "# installing selenium and webdriver manager\n",
    "#!pip install selenium\n",
    "#!pip install webdriver_manager"
   ]
  },
  {
   "cell_type": "code",
   "execution_count": 46,
   "id": "0cb600df-f57a-486d-a1f8-526f0836d7fb",
   "metadata": {
    "tags": []
   },
   "outputs": [],
   "source": [
    "# libraries\n",
    "import pandas as pd\n",
    "import geopandas as gpd\n",
    "import numpy as np\n",
    "\n",
    "import requests\n",
    "import urllib\n",
    "from urllib.request import urlopen\n",
    "from selenium import webdriver\n",
    "from selenium.webdriver.firefox.service import Service\n",
    "from selenium.webdriver.firefox.options import Options as FirefoxOptions\n",
    "from selenium.webdriver.common.keys import Keys\n",
    "from selenium.webdriver.common.by import By\n",
    "from webdriver_manager.firefox import GeckoDriverManager\n",
    "from bs4 import BeautifulSoup\n",
    "\n",
    "import re\n",
    "import os\n",
    "import nltk\n",
    "from nltk.corpus import stopwords\n",
    "from nltk.tokenize import word_tokenize, sent_tokenize\n",
    "from nltk.stem import PorterStemmer\n",
    "import json\n",
    "\n",
    "# set display\n",
    "pd.options.display.max_columns = 150\n",
    "pd.options.display.max_rows = 300"
   ]
  },
  {
   "cell_type": "markdown",
   "id": "12bb906f-bc82-4f91-b64b-bf2effa286ab",
   "metadata": {},
   "source": [
    "### Scraping the Municode Library\n",
    "\n",
    "Codes of Ordinances typically have a common structure: titles, chapters, sections, and subsections.\n",
    "\n",
    "After surveying the URL page to identify the structure, it seems that each title, of which there are over 20, is hosted in its own subpage, and each section within a chapter is further hosted on its own subpage (sub-subpage). \n",
    "\n",
    "So to scrape all available text in the code of ordinances, each section must be called from its title subpage after the title subpage is called from the main page."
   ]
  },
  {
   "cell_type": "code",
   "execution_count": 24,
   "id": "e4d81b95-fa46-4705-912d-5c963cff515b",
   "metadata": {},
   "outputs": [
    {
     "name": "stderr",
     "output_type": "stream",
     "text": [
      "C:\\Users\\melod\\AppData\\Local\\Temp\\ipykernel_15492\\3825732994.py:5: DeprecationWarning: Firefox will soon stop logging to geckodriver.log by default; Specify desired logs with log_output\n",
      "  service = Service(executable_path = r'C:\\Users\\melod\\Documents\\data science\\geckodriver-v0.33.0-win64\\geckodriver.exe')\n",
      "C:\\Users\\melod\\AppData\\Local\\Temp\\ipykernel_15492\\3825732994.py:10: DeprecationWarning: Firefox will soon stop logging to geckodriver.log by default; Specify desired logs with log_output\n",
      "  driver = webdriver.Firefox(options = options, service = Service(GeckoDriverManager().install()))\n"
     ]
    }
   ],
   "source": [
    "# SELENIUM: finding the link for the bank of policies\n",
    "URL = 'https://library.municode.com/ca/los_angeles_county/codes/code_of_ordinances?nodeId=LOS_ANGELES_CO_CODE'\n",
    "\n",
    "service = Service(executable_path = r'C:\\Users\\melod\\Documents\\data science\\geckodriver-v0.33.0-win64\\geckodriver.exe')\n",
    "options = webdriver.FirefoxOptions()\n",
    "options.add_argument(\"--headless\")\n",
    "#driver = webdriver.Firefox(executable_path=r'C:\\Users\\melod\\Documents\\data science\\geckodriver-v0.33.0-win64\\geckodriver.exe')\n",
    "#driver = webdriver.Firefox(service = service, options = options)\n",
    "driver = webdriver.Firefox(options = options, service = Service(GeckoDriverManager().install()))\n",
    "driver.get(URL)"
   ]
  },
  {
   "cell_type": "code",
   "execution_count": 54,
   "id": "dfd7fb3c-4b36-4595-b56a-69d8c374008d",
   "metadata": {
    "collapsed": true,
    "jupyter": {
     "outputs_hidden": true
    },
    "tags": []
   },
   "outputs": [
    {
     "data": {
      "text/plain": [
       "['LOS ANGELES COUNTY CODE',\n",
       " 'SUPPLEMENT HISTORY TABLE',\n",
       " 'CHARTER OF THE COUNTY OF LOS ANGELES',\n",
       " 'Title 1 - GENERAL PROVISIONS',\n",
       " 'Title 2 - ADMINISTRATION',\n",
       " 'Title 3 - ADVISORY COMMISSIONS AND COMMITTEES',\n",
       " 'Title 4 - REVENUE AND FINANCE',\n",
       " 'Title 5 - PERSONNEL',\n",
       " 'Title 6 - SALARIES',\n",
       " 'Title 7 - BUSINESS LICENSES',\n",
       " 'Title 8 - CONSUMER PROTECTION, BUSINESS AND WAGE REGULATIONS',\n",
       " 'Title 10 - ANIMALS',\n",
       " 'Title 11 - HEALTH AND SAFETY',\n",
       " 'Title 12 - ENVIRONMENTAL PROTECTION',\n",
       " 'Title 13 - PUBLIC PEACE, MORALS AND WELFARE',\n",
       " 'Title 15 - VEHICLES AND TRAFFIC',\n",
       " 'Title 16 - HIGHWAYS',\n",
       " 'Title 17 - PARKS, BEACHES AND OTHER PUBLIC AREAS',\n",
       " 'Title 19 - AIRPORTS AND HARBORS',\n",
       " 'Title 20 - UTILITIES',\n",
       " 'FLOOD CONTROL DISTRICT CODE',\n",
       " 'Title 21 - SUBDIVISIONS',\n",
       " 'Title 22 - PLANNING AND ZONING',\n",
       " 'Title 26 - BUILDING CODE',\n",
       " 'Title 27 - ELECTRICAL CODE',\n",
       " 'Title 28 - PLUMBING CODE',\n",
       " 'Title 29 - MECHANICAL CODE',\n",
       " 'Title 30 - RESIDENTIAL CODE',\n",
       " 'Title 31 - GREEN BUILDING STANDARDS CODE',\n",
       " 'Title 32 - FIRE CODE',\n",
       " 'Title 33 - EXISTING BUILDING CODE',\n",
       " 'ORDINANCE LIST AND DISPOSITION TABLE']"
      ]
     },
     "execution_count": 54,
     "metadata": {},
     "output_type": "execute_result"
    }
   ],
   "source": [
    "# scraping titles\n",
    "titles = driver.find_elements(By.XPATH, '//a[@class=\"toc-item-heading\"]')\n",
    "\n",
    "titlelist = []\n",
    "for title in titles:\n",
    "    title = title.text\n",
    "    titlelist.append(title)\n",
    "\n",
    "titlelist"
   ]
  },
  {
   "cell_type": "code",
   "execution_count": 63,
   "id": "2b37da5e-8311-42fa-81db-6295b6250f73",
   "metadata": {
    "tags": []
   },
   "outputs": [
    {
     "data": {
      "text/plain": [
       "['https://library.municode.com/ca/los_angeles_county/codes/code_of_ordinances?nodeId=LOS_ANGELES_CO_CODE',\n",
       " 'https://library.municode.com/ca/los_angeles_county/codes/code_of_ordinances?nodeId=SUHITA',\n",
       " 'https://library.municode.com/ca/los_angeles_county/codes/code_of_ordinances?nodeId=CHCOLOAN',\n",
       " 'https://library.municode.com/ca/los_angeles_county/codes/code_of_ordinances?nodeId=TIT1GEPR',\n",
       " 'https://library.municode.com/ca/los_angeles_county/codes/code_of_ordinances?nodeId=TIT2AD',\n",
       " 'https://library.municode.com/ca/los_angeles_county/codes/code_of_ordinances?nodeId=TIT3ADCOCO',\n",
       " 'https://library.municode.com/ca/los_angeles_county/codes/code_of_ordinances?nodeId=TIT4REFI',\n",
       " 'https://library.municode.com/ca/los_angeles_county/codes/code_of_ordinances?nodeId=TIT5PE',\n",
       " 'https://library.municode.com/ca/los_angeles_county/codes/code_of_ordinances?nodeId=TIT6SA',\n",
       " 'https://library.municode.com/ca/los_angeles_county/codes/code_of_ordinances?nodeId=TIT7BULI',\n",
       " 'https://library.municode.com/ca/los_angeles_county/codes/code_of_ordinances?nodeId=TIT8COPRBUWARE',\n",
       " 'https://library.municode.com/ca/los_angeles_county/codes/code_of_ordinances?nodeId=TIT10AN',\n",
       " 'https://library.municode.com/ca/los_angeles_county/codes/code_of_ordinances?nodeId=TIT11HESA',\n",
       " 'https://library.municode.com/ca/los_angeles_county/codes/code_of_ordinances?nodeId=TIT12ENPR',\n",
       " 'https://library.municode.com/ca/los_angeles_county/codes/code_of_ordinances?nodeId=TIT13PUPEMOWE',\n",
       " 'https://library.municode.com/ca/los_angeles_county/codes/code_of_ordinances?nodeId=TIT15VETR',\n",
       " 'https://library.municode.com/ca/los_angeles_county/codes/code_of_ordinances?nodeId=TIT16HI',\n",
       " 'https://library.municode.com/ca/los_angeles_county/codes/code_of_ordinances?nodeId=TIT17PABEOTPUAR',\n",
       " 'https://library.municode.com/ca/los_angeles_county/codes/code_of_ordinances?nodeId=TIT19AIHA',\n",
       " 'https://library.municode.com/ca/los_angeles_county/codes/code_of_ordinances?nodeId=TIT20UT',\n",
       " 'https://library.municode.com/ca/los_angeles_county/codes/code_of_ordinances?nodeId=FLCODICO',\n",
       " 'https://library.municode.com/ca/los_angeles_county/codes/code_of_ordinances?nodeId=TIT21SU',\n",
       " 'https://library.municode.com/ca/los_angeles_county/codes/code_of_ordinances?nodeId=TIT22PLZO',\n",
       " 'https://library.municode.com/ca/los_angeles_county/codes/code_of_ordinances?nodeId=TIT26BUCO',\n",
       " 'https://library.municode.com/ca/los_angeles_county/codes/code_of_ordinances?nodeId=TIT27ELCO',\n",
       " 'https://library.municode.com/ca/los_angeles_county/codes/code_of_ordinances?nodeId=TIT28PLCO',\n",
       " 'https://library.municode.com/ca/los_angeles_county/codes/code_of_ordinances?nodeId=TIT29MECO',\n",
       " 'https://library.municode.com/ca/los_angeles_county/codes/code_of_ordinances?nodeId=TIT30RECO',\n",
       " 'https://library.municode.com/ca/los_angeles_county/codes/code_of_ordinances?nodeId=TIT31GRBUSTCO',\n",
       " 'https://library.municode.com/ca/los_angeles_county/codes/code_of_ordinances?nodeId=TIT32FICO',\n",
       " 'https://library.municode.com/ca/los_angeles_county/codes/code_of_ordinances?nodeId=TIT33EXBUCO',\n",
       " 'https://library.municode.com/ca/los_angeles_county/codes/code_of_ordinances?nodeId=ORLIDITA']"
      ]
     },
     "execution_count": 63,
     "metadata": {},
     "output_type": "execute_result"
    }
   ],
   "source": [
    "# identifying code titles and indiv title text URLs\n",
    "titles = driver.find_elements(By.XPATH, '//a[@class=\"toc-item-heading\"]')\n",
    "\n",
    "linklist = []\n",
    "for title in titles:\n",
    "    link = title.get_attribute('href')\n",
    "    linklist.append(link)\n",
    "\n",
    "linklist"
   ]
  },
  {
   "cell_type": "code",
   "execution_count": 93,
   "id": "ac4c057f-0853-4a0a-a12b-388edd34bbef",
   "metadata": {
    "tags": []
   },
   "outputs": [
    {
     "data": {
      "text/plain": [
       "[]"
      ]
     },
     "execution_count": 93,
     "metadata": {},
     "output_type": "execute_result"
    }
   ],
   "source": [
    "# identifying code chapters and indiv chapter text URLs\n",
    "URL1 = linklist[3]\n",
    "driver.get(URL1)\n",
    "\n",
    "#chapters = driver.find_elements(By.CLASS_NAME, 'chunk-title-wrapper')\n",
    "#chapters = driver.find_elements(By.TAG_NAME, 'li')\n",
    "chapters = driver.find_elements(By.XPATH, '//*[contains(text(), \"Chapter\")]')\n",
    "#chapters = driver.find_elements(By.XPATH, '//div[@class=\"chunk-title-wrapper\"]')\n",
    "\n",
    "chapterlist = []\n",
    "for chapter in chapters:\n",
    "    link = chapter.get_attribute('href')\n",
    "    chapterlist.append(link)\n",
    "\n",
    "chapterlist"
   ]
  },
  {
   "cell_type": "code",
   "execution_count": 92,
   "id": "ab7308cb-0ac0-4e0d-b498-90197d52368f",
   "metadata": {},
   "outputs": [
    {
     "data": {
      "text/plain": [
       "['SIGN IN\\nHELP',\n",
       " 'SIGN IN\\nHELP',\n",
       " '',\n",
       " '',\n",
       " '',\n",
       " '',\n",
       " 'SIGN IN\\nHELP',\n",
       " 'SIGN IN\\nHELP\\nSelect Language▼',\n",
       " '',\n",
       " 'SIGN IN',\n",
       " 'SIGN IN',\n",
       " 'SIGN IN',\n",
       " 'Select Language▼',\n",
       " 'Select Language▼',\n",
       " 'Select Language▼',\n",
       " 'Initializing application...',\n",
       " '',\n",
       " 'Initializing application...',\n",
       " 'Initializing application...',\n",
       " 'Initializing application...',\n",
       " '',\n",
       " '',\n",
       " '',\n",
       " '',\n",
       " '',\n",
       " '',\n",
       " '',\n",
       " '',\n",
       " '',\n",
       " '',\n",
       " '',\n",
       " '',\n",
       " '',\n",
       " '',\n",
       " '',\n",
       " '',\n",
       " '',\n",
       " '',\n",
       " '',\n",
       " '',\n",
       " '',\n",
       " '',\n",
       " '',\n",
       " '',\n",
       " '',\n",
       " '',\n",
       " '',\n",
       " '',\n",
       " '',\n",
       " '',\n",
       " '']"
      ]
     },
     "execution_count": 92,
     "metadata": {},
     "output_type": "execute_result"
    }
   ],
   "source": [
    "# extracting code chapter text url\n",
    "URL2 = 'https://library.municode.com/ca/los_angeles_county/codes/code_of_ordinances?nodeId=TIT1GEPR_CH1.01COAD'\n",
    "driver.get(URL2)\n",
    "\n",
    "#texts = driver.find_elements(By.XPATH, '//p[@class=\"runin\"]')\n",
    "#texts = driver.find_elements(By.CLASS_NAME, 'runin')\n",
    "texts = driver.find_elements(By.TAG_NAME, 'div')\n",
    "\n",
    "textlist = []\n",
    "\n",
    "for text in texts:\n",
    "    text = text.text\n",
    "    textlist.append(text)\n",
    "\n",
    "textlist"
   ]
  },
  {
   "cell_type": "code",
   "execution_count": null,
   "id": "533f8f5b-31d7-4e36-b44c-8f90f42683c6",
   "metadata": {},
   "outputs": [],
   "source": [
    "# inspecting structure to locate text bloc\n",
    "print(soup.prettify())"
   ]
  }
 ],
 "metadata": {
  "kernelspec": {
   "display_name": "Python 3 (ipykernel)",
   "language": "python",
   "name": "python3"
  },
  "language_info": {
   "codemirror_mode": {
    "name": "ipython",
    "version": 3
   },
   "file_extension": ".py",
   "mimetype": "text/x-python",
   "name": "python",
   "nbconvert_exporter": "python",
   "pygments_lexer": "ipython3",
   "version": "3.9.16"
  }
 },
 "nbformat": 4,
 "nbformat_minor": 5
}

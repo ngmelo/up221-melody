{
 "cells": [
  {
   "cell_type": "markdown",
   "id": "b6dd0b16-ecdc-4180-bbd7-d981aa4d275d",
   "metadata": {},
   "source": [
    "## Occupations (& Potential Hazards) of the Residents in Tulare County\n",
    "**By Melody Ng**\n",
    "\n",
    "My group will be looking at the impact of oil wells on land and community health in select Central Valley Counties.\n",
    "For this assignment, I'll be exploring the distribution of occupations in Tulare County with special attention to the occupation sectors that include agricultural workers and workers that may be at higher risk for environmental risk exposures."
   ]
  },
  {
   "cell_type": "code",
   "execution_count": 1,
   "id": "d5df350e-70bd-41dd-832c-8f6fd8c35478",
   "metadata": {},
   "outputs": [],
   "source": [
    "## Importing library\n",
    "import pandas as pd"
   ]
  },
  {
   "cell_type": "code",
   "execution_count": 2,
   "id": "5e5d258c-b7ed-4904-9dc4-09a70c52e594",
   "metadata": {},
   "outputs": [],
   "source": [
    "## Loading census data downloaded from Social Explorer\n",
    "occ_tulare = pd.read_csv('R13285238_SL140.csv')"
   ]
  },
  {
   "cell_type": "code",
   "execution_count": 3,
   "id": "7efeb9e1-f2cd-4e31-bb6e-f496902fdb79",
   "metadata": {},
   "outputs": [
    {
     "data": {
      "text/plain": [
       "(103, 82)"
      ]
     },
     "execution_count": 3,
     "metadata": {},
     "output_type": "execute_result"
    }
   ],
   "source": [
    "## Exploring the data\n",
    "occ_tulare.shape"
   ]
  },
  {
   "cell_type": "code",
   "execution_count": 4,
   "id": "6db955a8-db97-49de-b595-39b7e1153ba7",
   "metadata": {},
   "outputs": [
    {
     "name": "stdout",
     "output_type": "stream",
     "text": [
      "<class 'pandas.core.frame.DataFrame'>\n",
      "RangeIndex: 103 entries, 0 to 102\n",
      "Data columns (total 82 columns):\n",
      " #   Column             Non-Null Count  Dtype  \n",
      "---  ------             --------------  -----  \n",
      " 0   Geo_FIPS           103 non-null    int64  \n",
      " 1   Geo_QName          103 non-null    object \n",
      " 2   Geo_FILEID         103 non-null    object \n",
      " 3   Geo_STUSAB         103 non-null    object \n",
      " 4   Geo_SUMLEV         103 non-null    int64  \n",
      " 5   Geo_GEOCOMP        103 non-null    int64  \n",
      " 6   Geo_LOGRECNO       103 non-null    int64  \n",
      " 7   Geo_US             0 non-null      float64\n",
      " 8   Geo_REGION         0 non-null      float64\n",
      " 9   Geo_DIVISION       0 non-null      float64\n",
      " 10  Geo_STATECE        0 non-null      float64\n",
      " 11  Geo_STATE          103 non-null    int64  \n",
      " 12  Geo_COUNTY         103 non-null    int64  \n",
      " 13  Geo_COUSUB         0 non-null      float64\n",
      " 14  Geo_PLACE          0 non-null      float64\n",
      " 15  Geo_TRACT          103 non-null    int64  \n",
      " 16  Geo_BLKGRP         0 non-null      float64\n",
      " 17  Geo_CONCIT         0 non-null      float64\n",
      " 18  Geo_AIANHH         0 non-null      float64\n",
      " 19  Geo_AIANHHFP       0 non-null      float64\n",
      " 20  Geo_AIHHTLI        0 non-null      float64\n",
      " 21  Geo_AITSCE         0 non-null      float64\n",
      " 22  Geo_AITS           0 non-null      float64\n",
      " 23  Geo_ANRC           0 non-null      float64\n",
      " 24  Geo_CBSA           0 non-null      float64\n",
      " 25  Geo_CSA            0 non-null      float64\n",
      " 26  Geo_METDIV         0 non-null      float64\n",
      " 27  Geo_MACC           0 non-null      float64\n",
      " 28  Geo_MEMI           0 non-null      float64\n",
      " 29  Geo_NECTA          0 non-null      float64\n",
      " 30  Geo_CNECTA         0 non-null      float64\n",
      " 31  Geo_NECTADIV       0 non-null      float64\n",
      " 32  Geo_UA             0 non-null      float64\n",
      " 33  Geo_UACP           0 non-null      float64\n",
      " 34  Geo_CDCURR         0 non-null      float64\n",
      " 35  Geo_SLDU           0 non-null      float64\n",
      " 36  Geo_SLDL           0 non-null      float64\n",
      " 37  Geo_VTD            0 non-null      float64\n",
      " 38  Geo_ZCTA3          0 non-null      float64\n",
      " 39  Geo_ZCTA5          0 non-null      float64\n",
      " 40  Geo_SUBMCD         0 non-null      float64\n",
      " 41  Geo_SDELM          0 non-null      float64\n",
      " 42  Geo_SDSEC          0 non-null      float64\n",
      " 43  Geo_SDUNI          0 non-null      float64\n",
      " 44  Geo_UR             0 non-null      float64\n",
      " 45  Geo_PCI            0 non-null      float64\n",
      " 46  Geo_TAZ            0 non-null      float64\n",
      " 47  Geo_UGA            0 non-null      float64\n",
      " 48  Geo_PUMA5          0 non-null      float64\n",
      " 49  Geo_PUMA1          0 non-null      float64\n",
      " 50  Geo_GEOID          103 non-null    object \n",
      " 51  Geo_NAME           103 non-null    object \n",
      " 52  Geo_BTTR           0 non-null      float64\n",
      " 53  Geo_BTBG           0 non-null      float64\n",
      " 54  Geo_PLACESE        0 non-null      float64\n",
      " 55  SE_B17008_001      103 non-null    int64  \n",
      " 56  SE_B17008_002      103 non-null    int64  \n",
      " 57  SE_B17008_003      103 non-null    int64  \n",
      " 58  SE_B17008_004      103 non-null    int64  \n",
      " 59  SE_B17008_005      103 non-null    int64  \n",
      " 60  SE_B17008_006      103 non-null    int64  \n",
      " 61  SE_B17008_007      103 non-null    int64  \n",
      " 62  SE_B17008_008      103 non-null    int64  \n",
      " 63  SE_B17008_009      103 non-null    int64  \n",
      " 64  SE_B17008_010      103 non-null    int64  \n",
      " 65  SE_B17008_011      103 non-null    int64  \n",
      " 66  SE_B17008_012      103 non-null    int64  \n",
      " 67  SE_B17008_013      103 non-null    int64  \n",
      " 68  SE_B17008_014      103 non-null    int64  \n",
      " 69  PCT_SE_B17008_002  103 non-null    float64\n",
      " 70  PCT_SE_B17008_003  103 non-null    float64\n",
      " 71  PCT_SE_B17008_004  103 non-null    float64\n",
      " 72  PCT_SE_B17008_005  103 non-null    float64\n",
      " 73  PCT_SE_B17008_006  103 non-null    float64\n",
      " 74  PCT_SE_B17008_007  103 non-null    float64\n",
      " 75  PCT_SE_B17008_008  103 non-null    float64\n",
      " 76  PCT_SE_B17008_009  103 non-null    float64\n",
      " 77  PCT_SE_B17008_010  103 non-null    float64\n",
      " 78  PCT_SE_B17008_011  103 non-null    float64\n",
      " 79  PCT_SE_B17008_012  103 non-null    float64\n",
      " 80  PCT_SE_B17008_013  103 non-null    float64\n",
      " 81  PCT_SE_B17008_014  103 non-null    float64\n",
      "dtypes: float64(56), int64(21), object(5)\n",
      "memory usage: 66.1+ KB\n"
     ]
    }
   ],
   "source": [
    "occ_tulare.info()"
   ]
  },
  {
   "cell_type": "code",
   "execution_count": 5,
   "id": "b6c2441c-4b27-4e74-a866-85336c65463f",
   "metadata": {},
   "outputs": [
    {
     "data": {
      "text/html": [
       "<div>\n",
       "<style scoped>\n",
       "    .dataframe tbody tr th:only-of-type {\n",
       "        vertical-align: middle;\n",
       "    }\n",
       "\n",
       "    .dataframe tbody tr th {\n",
       "        vertical-align: top;\n",
       "    }\n",
       "\n",
       "    .dataframe thead th {\n",
       "        text-align: right;\n",
       "    }\n",
       "</style>\n",
       "<table border=\"1\" class=\"dataframe\">\n",
       "  <thead>\n",
       "    <tr style=\"text-align: right;\">\n",
       "      <th></th>\n",
       "      <th>Geo_FIPS</th>\n",
       "      <th>Geo_QName</th>\n",
       "      <th>Geo_FILEID</th>\n",
       "      <th>Geo_STUSAB</th>\n",
       "      <th>Geo_SUMLEV</th>\n",
       "      <th>Geo_GEOCOMP</th>\n",
       "      <th>Geo_LOGRECNO</th>\n",
       "      <th>Geo_US</th>\n",
       "      <th>Geo_REGION</th>\n",
       "      <th>Geo_DIVISION</th>\n",
       "      <th>...</th>\n",
       "      <th>PCT_SE_B17008_005</th>\n",
       "      <th>PCT_SE_B17008_006</th>\n",
       "      <th>PCT_SE_B17008_007</th>\n",
       "      <th>PCT_SE_B17008_008</th>\n",
       "      <th>PCT_SE_B17008_009</th>\n",
       "      <th>PCT_SE_B17008_010</th>\n",
       "      <th>PCT_SE_B17008_011</th>\n",
       "      <th>PCT_SE_B17008_012</th>\n",
       "      <th>PCT_SE_B17008_013</th>\n",
       "      <th>PCT_SE_B17008_014</th>\n",
       "    </tr>\n",
       "  </thead>\n",
       "  <tbody>\n",
       "    <tr>\n",
       "      <th>0</th>\n",
       "      <td>6107000101</td>\n",
       "      <td>Census Tract 1.01, Tulare County, California</td>\n",
       "      <td>ACSSF</td>\n",
       "      <td>ca</td>\n",
       "      <td>140</td>\n",
       "      <td>0</td>\n",
       "      <td>11564</td>\n",
       "      <td>NaN</td>\n",
       "      <td>NaN</td>\n",
       "      <td>NaN</td>\n",
       "      <td>...</td>\n",
       "      <td>4.36</td>\n",
       "      <td>1.24</td>\n",
       "      <td>1.78</td>\n",
       "      <td>3.73</td>\n",
       "      <td>4.09</td>\n",
       "      <td>13.33</td>\n",
       "      <td>0.00</td>\n",
       "      <td>4.80</td>\n",
       "      <td>4.00</td>\n",
       "      <td>2.22</td>\n",
       "    </tr>\n",
       "    <tr>\n",
       "      <th>1</th>\n",
       "      <td>6107000102</td>\n",
       "      <td>Census Tract 1.02, Tulare County, California</td>\n",
       "      <td>ACSSF</td>\n",
       "      <td>ca</td>\n",
       "      <td>140</td>\n",
       "      <td>0</td>\n",
       "      <td>11565</td>\n",
       "      <td>NaN</td>\n",
       "      <td>NaN</td>\n",
       "      <td>NaN</td>\n",
       "      <td>...</td>\n",
       "      <td>0.00</td>\n",
       "      <td>4.68</td>\n",
       "      <td>12.30</td>\n",
       "      <td>0.00</td>\n",
       "      <td>8.71</td>\n",
       "      <td>11.86</td>\n",
       "      <td>11.97</td>\n",
       "      <td>6.53</td>\n",
       "      <td>5.44</td>\n",
       "      <td>8.71</td>\n",
       "    </tr>\n",
       "    <tr>\n",
       "      <th>2</th>\n",
       "      <td>6107000202</td>\n",
       "      <td>Census Tract 2.02, Tulare County, California</td>\n",
       "      <td>ACSSF</td>\n",
       "      <td>ca</td>\n",
       "      <td>140</td>\n",
       "      <td>0</td>\n",
       "      <td>11566</td>\n",
       "      <td>NaN</td>\n",
       "      <td>NaN</td>\n",
       "      <td>NaN</td>\n",
       "      <td>...</td>\n",
       "      <td>0.00</td>\n",
       "      <td>0.48</td>\n",
       "      <td>0.00</td>\n",
       "      <td>1.32</td>\n",
       "      <td>8.51</td>\n",
       "      <td>3.48</td>\n",
       "      <td>42.69</td>\n",
       "      <td>3.24</td>\n",
       "      <td>6.12</td>\n",
       "      <td>14.27</td>\n",
       "    </tr>\n",
       "    <tr>\n",
       "      <th>3</th>\n",
       "      <td>6107000203</td>\n",
       "      <td>Census Tract 2.03, Tulare County, California</td>\n",
       "      <td>ACSSF</td>\n",
       "      <td>ca</td>\n",
       "      <td>140</td>\n",
       "      <td>0</td>\n",
       "      <td>11567</td>\n",
       "      <td>NaN</td>\n",
       "      <td>NaN</td>\n",
       "      <td>NaN</td>\n",
       "      <td>...</td>\n",
       "      <td>0.00</td>\n",
       "      <td>1.55</td>\n",
       "      <td>6.36</td>\n",
       "      <td>0.63</td>\n",
       "      <td>3.10</td>\n",
       "      <td>9.06</td>\n",
       "      <td>21.33</td>\n",
       "      <td>21.62</td>\n",
       "      <td>2.35</td>\n",
       "      <td>11.93</td>\n",
       "    </tr>\n",
       "    <tr>\n",
       "      <th>4</th>\n",
       "      <td>6107000204</td>\n",
       "      <td>Census Tract 2.04, Tulare County, California</td>\n",
       "      <td>ACSSF</td>\n",
       "      <td>ca</td>\n",
       "      <td>140</td>\n",
       "      <td>0</td>\n",
       "      <td>11568</td>\n",
       "      <td>NaN</td>\n",
       "      <td>NaN</td>\n",
       "      <td>NaN</td>\n",
       "      <td>...</td>\n",
       "      <td>0.00</td>\n",
       "      <td>2.35</td>\n",
       "      <td>2.90</td>\n",
       "      <td>0.60</td>\n",
       "      <td>13.45</td>\n",
       "      <td>17.55</td>\n",
       "      <td>22.62</td>\n",
       "      <td>3.38</td>\n",
       "      <td>16.41</td>\n",
       "      <td>12.24</td>\n",
       "    </tr>\n",
       "  </tbody>\n",
       "</table>\n",
       "<p>5 rows × 82 columns</p>\n",
       "</div>"
      ],
      "text/plain": [
       "     Geo_FIPS                                     Geo_QName Geo_FILEID  \\\n",
       "0  6107000101  Census Tract 1.01, Tulare County, California      ACSSF   \n",
       "1  6107000102  Census Tract 1.02, Tulare County, California      ACSSF   \n",
       "2  6107000202  Census Tract 2.02, Tulare County, California      ACSSF   \n",
       "3  6107000203  Census Tract 2.03, Tulare County, California      ACSSF   \n",
       "4  6107000204  Census Tract 2.04, Tulare County, California      ACSSF   \n",
       "\n",
       "  Geo_STUSAB  Geo_SUMLEV  Geo_GEOCOMP  Geo_LOGRECNO  Geo_US  Geo_REGION  \\\n",
       "0         ca         140            0         11564     NaN         NaN   \n",
       "1         ca         140            0         11565     NaN         NaN   \n",
       "2         ca         140            0         11566     NaN         NaN   \n",
       "3         ca         140            0         11567     NaN         NaN   \n",
       "4         ca         140            0         11568     NaN         NaN   \n",
       "\n",
       "   Geo_DIVISION  ...  PCT_SE_B17008_005  PCT_SE_B17008_006  PCT_SE_B17008_007  \\\n",
       "0           NaN  ...               4.36               1.24               1.78   \n",
       "1           NaN  ...               0.00               4.68              12.30   \n",
       "2           NaN  ...               0.00               0.48               0.00   \n",
       "3           NaN  ...               0.00               1.55               6.36   \n",
       "4           NaN  ...               0.00               2.35               2.90   \n",
       "\n",
       "   PCT_SE_B17008_008  PCT_SE_B17008_009  PCT_SE_B17008_010  PCT_SE_B17008_011  \\\n",
       "0               3.73               4.09              13.33               0.00   \n",
       "1               0.00               8.71              11.86              11.97   \n",
       "2               1.32               8.51               3.48              42.69   \n",
       "3               0.63               3.10               9.06              21.33   \n",
       "4               0.60              13.45              17.55              22.62   \n",
       "\n",
       "   PCT_SE_B17008_012  PCT_SE_B17008_013  PCT_SE_B17008_014  \n",
       "0               4.80               4.00               2.22  \n",
       "1               6.53               5.44               8.71  \n",
       "2               3.24               6.12              14.27  \n",
       "3              21.62               2.35              11.93  \n",
       "4               3.38              16.41              12.24  \n",
       "\n",
       "[5 rows x 82 columns]"
      ]
     },
     "execution_count": 5,
     "metadata": {},
     "output_type": "execute_result"
    }
   ],
   "source": [
    "## Exploring the data\n",
    "occ_tulare.head(5)"
   ]
  },
  {
   "cell_type": "code",
   "execution_count": 6,
   "id": "54052b85-1c49-42bc-8679-925c30a814f6",
   "metadata": {},
   "outputs": [
    {
     "data": {
      "text/plain": [
       "0    6107000101\n",
       "1    6107000102\n",
       "2    6107000202\n",
       "3    6107000203\n",
       "4    6107000204\n",
       "Name: Geo_FIPS, dtype: int64"
      ]
     },
     "execution_count": 6,
     "metadata": {},
     "output_type": "execute_result"
    }
   ],
   "source": [
    "## Examining FIPS data\n",
    "occ_tulare.Geo_FIPS.head()"
   ]
  },
  {
   "cell_type": "code",
   "execution_count": 7,
   "id": "a28f00fa-ab7b-4de6-ba1b-091d87bb3fdd",
   "metadata": {},
   "outputs": [
    {
     "data": {
      "text/plain": [
       "0    6\n",
       "1    6\n",
       "2    6\n",
       "3    6\n",
       "4    6\n",
       "Name: Geo_STATE, dtype: int64"
      ]
     },
     "execution_count": 7,
     "metadata": {},
     "output_type": "execute_result"
    }
   ],
   "source": [
    "## Examining State ID data\n",
    "occ_tulare.Geo_STATE.head()"
   ]
  },
  {
   "cell_type": "code",
   "execution_count": 8,
   "id": "22f4d57e-4c06-428f-93cd-3bff8958f018",
   "metadata": {},
   "outputs": [
    {
     "data": {
      "text/plain": [
       "0    107\n",
       "1    107\n",
       "2    107\n",
       "3    107\n",
       "4    107\n",
       "Name: Geo_COUNTY, dtype: int64"
      ]
     },
     "execution_count": 8,
     "metadata": {},
     "output_type": "execute_result"
    }
   ],
   "source": [
    "## Examining County ID data\n",
    "occ_tulare.Geo_COUNTY.head()"
   ]
  },
  {
   "cell_type": "code",
   "execution_count": 9,
   "id": "e926a5ce-a64e-4e4d-b258-b8ec3dc30331",
   "metadata": {},
   "outputs": [],
   "source": [
    "## Recoding FIPS/Geo ID columns as strings\n",
    "occ_tulare = pd.read_csv('R13285238_SL140.csv',\n",
    "    dtype=\n",
    "    {\n",
    "        'Geo_FIPS':str,\n",
    "        'Geo_COUNTY':str,\n",
    "        'Geo_STATE':str\n",
    "    }\n",
    ")"
   ]
  },
  {
   "cell_type": "code",
   "execution_count": 10,
   "id": "0c1d19ae-1032-4961-aed9-115fd8276bf5",
   "metadata": {},
   "outputs": [
    {
     "data": {
      "text/html": [
       "<div>\n",
       "<style scoped>\n",
       "    .dataframe tbody tr th:only-of-type {\n",
       "        vertical-align: middle;\n",
       "    }\n",
       "\n",
       "    .dataframe tbody tr th {\n",
       "        vertical-align: top;\n",
       "    }\n",
       "\n",
       "    .dataframe thead th {\n",
       "        text-align: right;\n",
       "    }\n",
       "</style>\n",
       "<table border=\"1\" class=\"dataframe\">\n",
       "  <thead>\n",
       "    <tr style=\"text-align: right;\">\n",
       "      <th></th>\n",
       "      <th>Geo_FIPS</th>\n",
       "      <th>Geo_STATE</th>\n",
       "      <th>Geo_COUNTY</th>\n",
       "    </tr>\n",
       "  </thead>\n",
       "  <tbody>\n",
       "    <tr>\n",
       "      <th>0</th>\n",
       "      <td>06107000101</td>\n",
       "      <td>06</td>\n",
       "      <td>107</td>\n",
       "    </tr>\n",
       "    <tr>\n",
       "      <th>1</th>\n",
       "      <td>06107000102</td>\n",
       "      <td>06</td>\n",
       "      <td>107</td>\n",
       "    </tr>\n",
       "    <tr>\n",
       "      <th>2</th>\n",
       "      <td>06107000202</td>\n",
       "      <td>06</td>\n",
       "      <td>107</td>\n",
       "    </tr>\n",
       "    <tr>\n",
       "      <th>3</th>\n",
       "      <td>06107000203</td>\n",
       "      <td>06</td>\n",
       "      <td>107</td>\n",
       "    </tr>\n",
       "    <tr>\n",
       "      <th>4</th>\n",
       "      <td>06107000204</td>\n",
       "      <td>06</td>\n",
       "      <td>107</td>\n",
       "    </tr>\n",
       "    <tr>\n",
       "      <th>...</th>\n",
       "      <td>...</td>\n",
       "      <td>...</td>\n",
       "      <td>...</td>\n",
       "    </tr>\n",
       "    <tr>\n",
       "      <th>98</th>\n",
       "      <td>06107004301</td>\n",
       "      <td>06</td>\n",
       "      <td>107</td>\n",
       "    </tr>\n",
       "    <tr>\n",
       "      <th>99</th>\n",
       "      <td>06107004302</td>\n",
       "      <td>06</td>\n",
       "      <td>107</td>\n",
       "    </tr>\n",
       "    <tr>\n",
       "      <th>100</th>\n",
       "      <td>06107004401</td>\n",
       "      <td>06</td>\n",
       "      <td>107</td>\n",
       "    </tr>\n",
       "    <tr>\n",
       "      <th>101</th>\n",
       "      <td>06107004402</td>\n",
       "      <td>06</td>\n",
       "      <td>107</td>\n",
       "    </tr>\n",
       "    <tr>\n",
       "      <th>102</th>\n",
       "      <td>06107004500</td>\n",
       "      <td>06</td>\n",
       "      <td>107</td>\n",
       "    </tr>\n",
       "  </tbody>\n",
       "</table>\n",
       "<p>103 rows × 3 columns</p>\n",
       "</div>"
      ],
      "text/plain": [
       "        Geo_FIPS Geo_STATE Geo_COUNTY\n",
       "0    06107000101        06        107\n",
       "1    06107000102        06        107\n",
       "2    06107000202        06        107\n",
       "3    06107000203        06        107\n",
       "4    06107000204        06        107\n",
       "..           ...       ...        ...\n",
       "98   06107004301        06        107\n",
       "99   06107004302        06        107\n",
       "100  06107004401        06        107\n",
       "101  06107004402        06        107\n",
       "102  06107004500        06        107\n",
       "\n",
       "[103 rows x 3 columns]"
      ]
     },
     "execution_count": 10,
     "metadata": {},
     "output_type": "execute_result"
    }
   ],
   "source": [
    "occ_tulare[['Geo_FIPS','Geo_STATE','Geo_COUNTY']]"
   ]
  },
  {
   "cell_type": "code",
   "execution_count": 11,
   "id": "db6379b8-cf10-43f3-a2dc-7af7cb4ed171",
   "metadata": {},
   "outputs": [
    {
     "name": "stdout",
     "output_type": "stream",
     "text": [
      "<class 'pandas.core.frame.DataFrame'>\n",
      "RangeIndex: 103 entries, 0 to 102\n",
      "Data columns (total 82 columns):\n",
      " #   Column             Non-Null Count  Dtype  \n",
      "---  ------             --------------  -----  \n",
      " 0   Geo_FIPS           103 non-null    object \n",
      " 1   Geo_QName          103 non-null    object \n",
      " 2   Geo_FILEID         103 non-null    object \n",
      " 3   Geo_STUSAB         103 non-null    object \n",
      " 4   Geo_SUMLEV         103 non-null    int64  \n",
      " 5   Geo_GEOCOMP        103 non-null    int64  \n",
      " 6   Geo_LOGRECNO       103 non-null    int64  \n",
      " 7   Geo_US             0 non-null      float64\n",
      " 8   Geo_REGION         0 non-null      float64\n",
      " 9   Geo_DIVISION       0 non-null      float64\n",
      " 10  Geo_STATECE        0 non-null      float64\n",
      " 11  Geo_STATE          103 non-null    object \n",
      " 12  Geo_COUNTY         103 non-null    object \n",
      " 13  Geo_COUSUB         0 non-null      float64\n",
      " 14  Geo_PLACE          0 non-null      float64\n",
      " 15  Geo_TRACT          103 non-null    int64  \n",
      " 16  Geo_BLKGRP         0 non-null      float64\n",
      " 17  Geo_CONCIT         0 non-null      float64\n",
      " 18  Geo_AIANHH         0 non-null      float64\n",
      " 19  Geo_AIANHHFP       0 non-null      float64\n",
      " 20  Geo_AIHHTLI        0 non-null      float64\n",
      " 21  Geo_AITSCE         0 non-null      float64\n",
      " 22  Geo_AITS           0 non-null      float64\n",
      " 23  Geo_ANRC           0 non-null      float64\n",
      " 24  Geo_CBSA           0 non-null      float64\n",
      " 25  Geo_CSA            0 non-null      float64\n",
      " 26  Geo_METDIV         0 non-null      float64\n",
      " 27  Geo_MACC           0 non-null      float64\n",
      " 28  Geo_MEMI           0 non-null      float64\n",
      " 29  Geo_NECTA          0 non-null      float64\n",
      " 30  Geo_CNECTA         0 non-null      float64\n",
      " 31  Geo_NECTADIV       0 non-null      float64\n",
      " 32  Geo_UA             0 non-null      float64\n",
      " 33  Geo_UACP           0 non-null      float64\n",
      " 34  Geo_CDCURR         0 non-null      float64\n",
      " 35  Geo_SLDU           0 non-null      float64\n",
      " 36  Geo_SLDL           0 non-null      float64\n",
      " 37  Geo_VTD            0 non-null      float64\n",
      " 38  Geo_ZCTA3          0 non-null      float64\n",
      " 39  Geo_ZCTA5          0 non-null      float64\n",
      " 40  Geo_SUBMCD         0 non-null      float64\n",
      " 41  Geo_SDELM          0 non-null      float64\n",
      " 42  Geo_SDSEC          0 non-null      float64\n",
      " 43  Geo_SDUNI          0 non-null      float64\n",
      " 44  Geo_UR             0 non-null      float64\n",
      " 45  Geo_PCI            0 non-null      float64\n",
      " 46  Geo_TAZ            0 non-null      float64\n",
      " 47  Geo_UGA            0 non-null      float64\n",
      " 48  Geo_PUMA5          0 non-null      float64\n",
      " 49  Geo_PUMA1          0 non-null      float64\n",
      " 50  Geo_GEOID          103 non-null    object \n",
      " 51  Geo_NAME           103 non-null    object \n",
      " 52  Geo_BTTR           0 non-null      float64\n",
      " 53  Geo_BTBG           0 non-null      float64\n",
      " 54  Geo_PLACESE        0 non-null      float64\n",
      " 55  SE_B17008_001      103 non-null    int64  \n",
      " 56  SE_B17008_002      103 non-null    int64  \n",
      " 57  SE_B17008_003      103 non-null    int64  \n",
      " 58  SE_B17008_004      103 non-null    int64  \n",
      " 59  SE_B17008_005      103 non-null    int64  \n",
      " 60  SE_B17008_006      103 non-null    int64  \n",
      " 61  SE_B17008_007      103 non-null    int64  \n",
      " 62  SE_B17008_008      103 non-null    int64  \n",
      " 63  SE_B17008_009      103 non-null    int64  \n",
      " 64  SE_B17008_010      103 non-null    int64  \n",
      " 65  SE_B17008_011      103 non-null    int64  \n",
      " 66  SE_B17008_012      103 non-null    int64  \n",
      " 67  SE_B17008_013      103 non-null    int64  \n",
      " 68  SE_B17008_014      103 non-null    int64  \n",
      " 69  PCT_SE_B17008_002  103 non-null    float64\n",
      " 70  PCT_SE_B17008_003  103 non-null    float64\n",
      " 71  PCT_SE_B17008_004  103 non-null    float64\n",
      " 72  PCT_SE_B17008_005  103 non-null    float64\n",
      " 73  PCT_SE_B17008_006  103 non-null    float64\n",
      " 74  PCT_SE_B17008_007  103 non-null    float64\n",
      " 75  PCT_SE_B17008_008  103 non-null    float64\n",
      " 76  PCT_SE_B17008_009  103 non-null    float64\n",
      " 77  PCT_SE_B17008_010  103 non-null    float64\n",
      " 78  PCT_SE_B17008_011  103 non-null    float64\n",
      " 79  PCT_SE_B17008_012  103 non-null    float64\n",
      " 80  PCT_SE_B17008_013  103 non-null    float64\n",
      " 81  PCT_SE_B17008_014  103 non-null    float64\n",
      "dtypes: float64(56), int64(18), object(8)\n",
      "memory usage: 66.1+ KB\n"
     ]
    }
   ],
   "source": [
    "## Confirming change in datatype\n",
    "occ_tulare.info()"
   ]
  },
  {
   "cell_type": "code",
   "execution_count": 12,
   "id": "933b9e10-0957-47c2-9487-408e4324d8a4",
   "metadata": {},
   "outputs": [
    {
     "data": {
      "text/plain": [
       "['Geo_US',\n",
       " 'Geo_REGION',\n",
       " 'Geo_DIVISION',\n",
       " 'Geo_STATECE',\n",
       " 'Geo_COUSUB',\n",
       " 'Geo_PLACE',\n",
       " 'Geo_BLKGRP',\n",
       " 'Geo_CONCIT',\n",
       " 'Geo_AIANHH',\n",
       " 'Geo_AIANHHFP',\n",
       " 'Geo_AIHHTLI',\n",
       " 'Geo_AITSCE',\n",
       " 'Geo_AITS',\n",
       " 'Geo_ANRC',\n",
       " 'Geo_CBSA',\n",
       " 'Geo_CSA',\n",
       " 'Geo_METDIV',\n",
       " 'Geo_MACC',\n",
       " 'Geo_MEMI',\n",
       " 'Geo_NECTA',\n",
       " 'Geo_CNECTA',\n",
       " 'Geo_NECTADIV',\n",
       " 'Geo_UA',\n",
       " 'Geo_UACP',\n",
       " 'Geo_CDCURR',\n",
       " 'Geo_SLDU',\n",
       " 'Geo_SLDL',\n",
       " 'Geo_VTD',\n",
       " 'Geo_ZCTA3',\n",
       " 'Geo_ZCTA5',\n",
       " 'Geo_SUBMCD',\n",
       " 'Geo_SDELM',\n",
       " 'Geo_SDSEC',\n",
       " 'Geo_SDUNI',\n",
       " 'Geo_UR',\n",
       " 'Geo_PCI',\n",
       " 'Geo_TAZ',\n",
       " 'Geo_UGA',\n",
       " 'Geo_PUMA5',\n",
       " 'Geo_PUMA1',\n",
       " 'Geo_BTTR',\n",
       " 'Geo_BTBG',\n",
       " 'Geo_PLACESE']"
      ]
     },
     "execution_count": 12,
     "metadata": {},
     "output_type": "execute_result"
    }
   ],
   "source": [
    "## Cleaning: Trimming dataset by deleting columns with no values\n",
    "occ_tulare.columns[occ_tulare.isna().all()].tolist()"
   ]
  },
  {
   "cell_type": "code",
   "execution_count": 13,
   "id": "779d1f30-dc12-4e53-8f2a-1745d4a5887c",
   "metadata": {},
   "outputs": [],
   "source": [
    "occ_tulare = occ_tulare.dropna(axis=1, how=\"all\")"
   ]
  },
  {
   "cell_type": "code",
   "execution_count": 14,
   "id": "ee35c963-2df5-4f94-a9b2-35447f569618",
   "metadata": {},
   "outputs": [
    {
     "name": "stdout",
     "output_type": "stream",
     "text": [
      "<class 'pandas.core.frame.DataFrame'>\n",
      "RangeIndex: 103 entries, 0 to 102\n",
      "Data columns (total 39 columns):\n",
      " #   Column             Non-Null Count  Dtype  \n",
      "---  ------             --------------  -----  \n",
      " 0   Geo_FIPS           103 non-null    object \n",
      " 1   Geo_QName          103 non-null    object \n",
      " 2   Geo_FILEID         103 non-null    object \n",
      " 3   Geo_STUSAB         103 non-null    object \n",
      " 4   Geo_SUMLEV         103 non-null    int64  \n",
      " 5   Geo_GEOCOMP        103 non-null    int64  \n",
      " 6   Geo_LOGRECNO       103 non-null    int64  \n",
      " 7   Geo_STATE          103 non-null    object \n",
      " 8   Geo_COUNTY         103 non-null    object \n",
      " 9   Geo_TRACT          103 non-null    int64  \n",
      " 10  Geo_GEOID          103 non-null    object \n",
      " 11  Geo_NAME           103 non-null    object \n",
      " 12  SE_B17008_001      103 non-null    int64  \n",
      " 13  SE_B17008_002      103 non-null    int64  \n",
      " 14  SE_B17008_003      103 non-null    int64  \n",
      " 15  SE_B17008_004      103 non-null    int64  \n",
      " 16  SE_B17008_005      103 non-null    int64  \n",
      " 17  SE_B17008_006      103 non-null    int64  \n",
      " 18  SE_B17008_007      103 non-null    int64  \n",
      " 19  SE_B17008_008      103 non-null    int64  \n",
      " 20  SE_B17008_009      103 non-null    int64  \n",
      " 21  SE_B17008_010      103 non-null    int64  \n",
      " 22  SE_B17008_011      103 non-null    int64  \n",
      " 23  SE_B17008_012      103 non-null    int64  \n",
      " 24  SE_B17008_013      103 non-null    int64  \n",
      " 25  SE_B17008_014      103 non-null    int64  \n",
      " 26  PCT_SE_B17008_002  103 non-null    float64\n",
      " 27  PCT_SE_B17008_003  103 non-null    float64\n",
      " 28  PCT_SE_B17008_004  103 non-null    float64\n",
      " 29  PCT_SE_B17008_005  103 non-null    float64\n",
      " 30  PCT_SE_B17008_006  103 non-null    float64\n",
      " 31  PCT_SE_B17008_007  103 non-null    float64\n",
      " 32  PCT_SE_B17008_008  103 non-null    float64\n",
      " 33  PCT_SE_B17008_009  103 non-null    float64\n",
      " 34  PCT_SE_B17008_010  103 non-null    float64\n",
      " 35  PCT_SE_B17008_011  103 non-null    float64\n",
      " 36  PCT_SE_B17008_012  103 non-null    float64\n",
      " 37  PCT_SE_B17008_013  103 non-null    float64\n",
      " 38  PCT_SE_B17008_014  103 non-null    float64\n",
      "dtypes: float64(13), int64(18), object(8)\n",
      "memory usage: 31.5+ KB\n"
     ]
    }
   ],
   "source": [
    "## Confirming dataset has been trimmed\n",
    "occ_tulare.info()"
   ]
  },
  {
   "cell_type": "markdown",
   "id": "ff2885b0-42d8-4924-aacd-4af23fffad42",
   "metadata": {},
   "source": [
    "The dataset has been trimmed from 82 to 39 columns."
   ]
  },
  {
   "cell_type": "code",
   "execution_count": 15,
   "id": "b1be5432-3d0e-4d9d-80f5-7b8a8752f01a",
   "metadata": {},
   "outputs": [
    {
     "data": {
      "text/html": [
       "<div>\n",
       "<style scoped>\n",
       "    .dataframe tbody tr th:only-of-type {\n",
       "        vertical-align: middle;\n",
       "    }\n",
       "\n",
       "    .dataframe tbody tr th {\n",
       "        vertical-align: top;\n",
       "    }\n",
       "\n",
       "    .dataframe thead th {\n",
       "        text-align: right;\n",
       "    }\n",
       "</style>\n",
       "<table border=\"1\" class=\"dataframe\">\n",
       "  <thead>\n",
       "    <tr style=\"text-align: right;\">\n",
       "      <th></th>\n",
       "      <th>Geo_FIPS</th>\n",
       "      <th>Geo_QName</th>\n",
       "      <th>Geo_FILEID</th>\n",
       "      <th>Geo_STUSAB</th>\n",
       "      <th>Geo_SUMLEV</th>\n",
       "      <th>Geo_GEOCOMP</th>\n",
       "      <th>Geo_LOGRECNO</th>\n",
       "      <th>Geo_STATE</th>\n",
       "      <th>Geo_COUNTY</th>\n",
       "      <th>Geo_TRACT</th>\n",
       "      <th>...</th>\n",
       "      <th>PCT_SE_B17008_005</th>\n",
       "      <th>PCT_SE_B17008_006</th>\n",
       "      <th>PCT_SE_B17008_007</th>\n",
       "      <th>PCT_SE_B17008_008</th>\n",
       "      <th>PCT_SE_B17008_009</th>\n",
       "      <th>PCT_SE_B17008_010</th>\n",
       "      <th>PCT_SE_B17008_011</th>\n",
       "      <th>PCT_SE_B17008_012</th>\n",
       "      <th>PCT_SE_B17008_013</th>\n",
       "      <th>PCT_SE_B17008_014</th>\n",
       "    </tr>\n",
       "  </thead>\n",
       "  <tbody>\n",
       "    <tr>\n",
       "      <th>0</th>\n",
       "      <td>06107000101</td>\n",
       "      <td>Census Tract 1.01, Tulare County, California</td>\n",
       "      <td>ACSSF</td>\n",
       "      <td>ca</td>\n",
       "      <td>140</td>\n",
       "      <td>0</td>\n",
       "      <td>11564</td>\n",
       "      <td>06</td>\n",
       "      <td>107</td>\n",
       "      <td>101</td>\n",
       "      <td>...</td>\n",
       "      <td>4.36</td>\n",
       "      <td>1.24</td>\n",
       "      <td>1.78</td>\n",
       "      <td>3.73</td>\n",
       "      <td>4.09</td>\n",
       "      <td>13.33</td>\n",
       "      <td>0.00</td>\n",
       "      <td>4.80</td>\n",
       "      <td>4.00</td>\n",
       "      <td>2.22</td>\n",
       "    </tr>\n",
       "    <tr>\n",
       "      <th>1</th>\n",
       "      <td>06107000102</td>\n",
       "      <td>Census Tract 1.02, Tulare County, California</td>\n",
       "      <td>ACSSF</td>\n",
       "      <td>ca</td>\n",
       "      <td>140</td>\n",
       "      <td>0</td>\n",
       "      <td>11565</td>\n",
       "      <td>06</td>\n",
       "      <td>107</td>\n",
       "      <td>102</td>\n",
       "      <td>...</td>\n",
       "      <td>0.00</td>\n",
       "      <td>4.68</td>\n",
       "      <td>12.30</td>\n",
       "      <td>0.00</td>\n",
       "      <td>8.71</td>\n",
       "      <td>11.86</td>\n",
       "      <td>11.97</td>\n",
       "      <td>6.53</td>\n",
       "      <td>5.44</td>\n",
       "      <td>8.71</td>\n",
       "    </tr>\n",
       "    <tr>\n",
       "      <th>2</th>\n",
       "      <td>06107000202</td>\n",
       "      <td>Census Tract 2.02, Tulare County, California</td>\n",
       "      <td>ACSSF</td>\n",
       "      <td>ca</td>\n",
       "      <td>140</td>\n",
       "      <td>0</td>\n",
       "      <td>11566</td>\n",
       "      <td>06</td>\n",
       "      <td>107</td>\n",
       "      <td>202</td>\n",
       "      <td>...</td>\n",
       "      <td>0.00</td>\n",
       "      <td>0.48</td>\n",
       "      <td>0.00</td>\n",
       "      <td>1.32</td>\n",
       "      <td>8.51</td>\n",
       "      <td>3.48</td>\n",
       "      <td>42.69</td>\n",
       "      <td>3.24</td>\n",
       "      <td>6.12</td>\n",
       "      <td>14.27</td>\n",
       "    </tr>\n",
       "    <tr>\n",
       "      <th>3</th>\n",
       "      <td>06107000203</td>\n",
       "      <td>Census Tract 2.03, Tulare County, California</td>\n",
       "      <td>ACSSF</td>\n",
       "      <td>ca</td>\n",
       "      <td>140</td>\n",
       "      <td>0</td>\n",
       "      <td>11567</td>\n",
       "      <td>06</td>\n",
       "      <td>107</td>\n",
       "      <td>203</td>\n",
       "      <td>...</td>\n",
       "      <td>0.00</td>\n",
       "      <td>1.55</td>\n",
       "      <td>6.36</td>\n",
       "      <td>0.63</td>\n",
       "      <td>3.10</td>\n",
       "      <td>9.06</td>\n",
       "      <td>21.33</td>\n",
       "      <td>21.62</td>\n",
       "      <td>2.35</td>\n",
       "      <td>11.93</td>\n",
       "    </tr>\n",
       "    <tr>\n",
       "      <th>4</th>\n",
       "      <td>06107000204</td>\n",
       "      <td>Census Tract 2.04, Tulare County, California</td>\n",
       "      <td>ACSSF</td>\n",
       "      <td>ca</td>\n",
       "      <td>140</td>\n",
       "      <td>0</td>\n",
       "      <td>11568</td>\n",
       "      <td>06</td>\n",
       "      <td>107</td>\n",
       "      <td>204</td>\n",
       "      <td>...</td>\n",
       "      <td>0.00</td>\n",
       "      <td>2.35</td>\n",
       "      <td>2.90</td>\n",
       "      <td>0.60</td>\n",
       "      <td>13.45</td>\n",
       "      <td>17.55</td>\n",
       "      <td>22.62</td>\n",
       "      <td>3.38</td>\n",
       "      <td>16.41</td>\n",
       "      <td>12.24</td>\n",
       "    </tr>\n",
       "  </tbody>\n",
       "</table>\n",
       "<p>5 rows × 39 columns</p>\n",
       "</div>"
      ],
      "text/plain": [
       "      Geo_FIPS                                     Geo_QName Geo_FILEID  \\\n",
       "0  06107000101  Census Tract 1.01, Tulare County, California      ACSSF   \n",
       "1  06107000102  Census Tract 1.02, Tulare County, California      ACSSF   \n",
       "2  06107000202  Census Tract 2.02, Tulare County, California      ACSSF   \n",
       "3  06107000203  Census Tract 2.03, Tulare County, California      ACSSF   \n",
       "4  06107000204  Census Tract 2.04, Tulare County, California      ACSSF   \n",
       "\n",
       "  Geo_STUSAB  Geo_SUMLEV  Geo_GEOCOMP  Geo_LOGRECNO Geo_STATE Geo_COUNTY  \\\n",
       "0         ca         140            0         11564        06        107   \n",
       "1         ca         140            0         11565        06        107   \n",
       "2         ca         140            0         11566        06        107   \n",
       "3         ca         140            0         11567        06        107   \n",
       "4         ca         140            0         11568        06        107   \n",
       "\n",
       "   Geo_TRACT  ... PCT_SE_B17008_005 PCT_SE_B17008_006  PCT_SE_B17008_007  \\\n",
       "0        101  ...              4.36              1.24               1.78   \n",
       "1        102  ...              0.00              4.68              12.30   \n",
       "2        202  ...              0.00              0.48               0.00   \n",
       "3        203  ...              0.00              1.55               6.36   \n",
       "4        204  ...              0.00              2.35               2.90   \n",
       "\n",
       "   PCT_SE_B17008_008  PCT_SE_B17008_009  PCT_SE_B17008_010  PCT_SE_B17008_011  \\\n",
       "0               3.73               4.09              13.33               0.00   \n",
       "1               0.00               8.71              11.86              11.97   \n",
       "2               1.32               8.51               3.48              42.69   \n",
       "3               0.63               3.10               9.06              21.33   \n",
       "4               0.60              13.45              17.55              22.62   \n",
       "\n",
       "   PCT_SE_B17008_012  PCT_SE_B17008_013  PCT_SE_B17008_014  \n",
       "0               4.80               4.00               2.22  \n",
       "1               6.53               5.44               8.71  \n",
       "2               3.24               6.12              14.27  \n",
       "3              21.62               2.35              11.93  \n",
       "4               3.38              16.41              12.24  \n",
       "\n",
       "[5 rows x 39 columns]"
      ]
     },
     "execution_count": 15,
     "metadata": {},
     "output_type": "execute_result"
    }
   ],
   "source": [
    "occ_tulare.head()"
   ]
  },
  {
   "cell_type": "code",
   "execution_count": 16,
   "id": "3b633ac1-b258-47ae-9267-3866c081f3db",
   "metadata": {},
   "outputs": [],
   "source": [
    "## Further trimming the dataset for essential columns\n",
    "occupations = ['Geo_FIPS','SE_B17008_001','SE_B17008_002','SE_B17008_003','SE_B17008_004','SE_B17008_005','SE_B17008_006','SE_B17008_007','SE_B17008_008','SE_B17008_009','SE_B17008_010','SE_B17008_011','SE_B17008_012','SE_B17008_013','SE_B17008_014']\n",
    "occ_tulare2 = occ_tulare[occupations]"
   ]
  },
  {
   "cell_type": "code",
   "execution_count": 17,
   "id": "9a58cb24-5698-4637-b6ca-37f5f543be00",
   "metadata": {},
   "outputs": [
    {
     "data": {
      "text/html": [
       "<div>\n",
       "<style scoped>\n",
       "    .dataframe tbody tr th:only-of-type {\n",
       "        vertical-align: middle;\n",
       "    }\n",
       "\n",
       "    .dataframe tbody tr th {\n",
       "        vertical-align: top;\n",
       "    }\n",
       "\n",
       "    .dataframe thead th {\n",
       "        text-align: right;\n",
       "    }\n",
       "</style>\n",
       "<table border=\"1\" class=\"dataframe\">\n",
       "  <thead>\n",
       "    <tr style=\"text-align: right;\">\n",
       "      <th></th>\n",
       "      <th>FIPS</th>\n",
       "      <th>EmployedPop</th>\n",
       "      <th>Management, Business, and Financial Ops</th>\n",
       "      <th>Professional and Related</th>\n",
       "      <th>Healthcare Support</th>\n",
       "      <th>Protective Service</th>\n",
       "      <th>Food Preparation and Serving Related</th>\n",
       "      <th>Building and Grounds Cleaning and Maintenance</th>\n",
       "      <th>Personal Care and Service</th>\n",
       "      <th>Sales and Related</th>\n",
       "      <th>Office and Administrative Support</th>\n",
       "      <th>Farming, Fishing, and Forestry</th>\n",
       "      <th>Construction, Extraction, and Maintenance</th>\n",
       "      <th>Production</th>\n",
       "      <th>Transportation and Material Moving</th>\n",
       "    </tr>\n",
       "  </thead>\n",
       "  <tbody>\n",
       "    <tr>\n",
       "      <th>0</th>\n",
       "      <td>06107000101</td>\n",
       "      <td>1125</td>\n",
       "      <td>360</td>\n",
       "      <td>320</td>\n",
       "      <td>0</td>\n",
       "      <td>49</td>\n",
       "      <td>14</td>\n",
       "      <td>20</td>\n",
       "      <td>42</td>\n",
       "      <td>46</td>\n",
       "      <td>150</td>\n",
       "      <td>0</td>\n",
       "      <td>54</td>\n",
       "      <td>45</td>\n",
       "      <td>25</td>\n",
       "    </tr>\n",
       "    <tr>\n",
       "      <th>1</th>\n",
       "      <td>06107000102</td>\n",
       "      <td>919</td>\n",
       "      <td>160</td>\n",
       "      <td>114</td>\n",
       "      <td>0</td>\n",
       "      <td>0</td>\n",
       "      <td>43</td>\n",
       "      <td>113</td>\n",
       "      <td>0</td>\n",
       "      <td>80</td>\n",
       "      <td>109</td>\n",
       "      <td>110</td>\n",
       "      <td>60</td>\n",
       "      <td>50</td>\n",
       "      <td>80</td>\n",
       "    </tr>\n",
       "    <tr>\n",
       "      <th>2</th>\n",
       "      <td>06107000202</td>\n",
       "      <td>834</td>\n",
       "      <td>79</td>\n",
       "      <td>21</td>\n",
       "      <td>66</td>\n",
       "      <td>0</td>\n",
       "      <td>4</td>\n",
       "      <td>0</td>\n",
       "      <td>11</td>\n",
       "      <td>71</td>\n",
       "      <td>29</td>\n",
       "      <td>356</td>\n",
       "      <td>27</td>\n",
       "      <td>51</td>\n",
       "      <td>119</td>\n",
       "    </tr>\n",
       "    <tr>\n",
       "      <th>3</th>\n",
       "      <td>06107000203</td>\n",
       "      <td>1744</td>\n",
       "      <td>133</td>\n",
       "      <td>101</td>\n",
       "      <td>151</td>\n",
       "      <td>0</td>\n",
       "      <td>27</td>\n",
       "      <td>111</td>\n",
       "      <td>11</td>\n",
       "      <td>54</td>\n",
       "      <td>158</td>\n",
       "      <td>372</td>\n",
       "      <td>377</td>\n",
       "      <td>41</td>\n",
       "      <td>208</td>\n",
       "    </tr>\n",
       "    <tr>\n",
       "      <th>4</th>\n",
       "      <td>06107000204</td>\n",
       "      <td>1658</td>\n",
       "      <td>65</td>\n",
       "      <td>76</td>\n",
       "      <td>0</td>\n",
       "      <td>0</td>\n",
       "      <td>39</td>\n",
       "      <td>48</td>\n",
       "      <td>10</td>\n",
       "      <td>223</td>\n",
       "      <td>291</td>\n",
       "      <td>375</td>\n",
       "      <td>56</td>\n",
       "      <td>272</td>\n",
       "      <td>203</td>\n",
       "    </tr>\n",
       "  </tbody>\n",
       "</table>\n",
       "</div>"
      ],
      "text/plain": [
       "          FIPS  EmployedPop  Management, Business, and Financial Ops  \\\n",
       "0  06107000101         1125                                      360   \n",
       "1  06107000102          919                                      160   \n",
       "2  06107000202          834                                       79   \n",
       "3  06107000203         1744                                      133   \n",
       "4  06107000204         1658                                       65   \n",
       "\n",
       "   Professional and Related  Healthcare Support  Protective Service  \\\n",
       "0                       320                   0                  49   \n",
       "1                       114                   0                   0   \n",
       "2                        21                  66                   0   \n",
       "3                       101                 151                   0   \n",
       "4                        76                   0                   0   \n",
       "\n",
       "   Food Preparation and Serving Related  \\\n",
       "0                                    14   \n",
       "1                                    43   \n",
       "2                                     4   \n",
       "3                                    27   \n",
       "4                                    39   \n",
       "\n",
       "   Building and Grounds Cleaning and Maintenance  Personal Care and Service  \\\n",
       "0                                             20                         42   \n",
       "1                                            113                          0   \n",
       "2                                              0                         11   \n",
       "3                                            111                         11   \n",
       "4                                             48                         10   \n",
       "\n",
       "   Sales and Related  Office and Administrative Support  \\\n",
       "0                 46                                150   \n",
       "1                 80                                109   \n",
       "2                 71                                 29   \n",
       "3                 54                                158   \n",
       "4                223                                291   \n",
       "\n",
       "   Farming, Fishing, and Forestry  Construction, Extraction, and Maintenance  \\\n",
       "0                               0                                         54   \n",
       "1                             110                                         60   \n",
       "2                             356                                         27   \n",
       "3                             372                                        377   \n",
       "4                             375                                         56   \n",
       "\n",
       "   Production  Transportation and Material Moving  \n",
       "0          45                                  25  \n",
       "1          50                                  80  \n",
       "2          51                                 119  \n",
       "3          41                                 208  \n",
       "4         272                                 203  "
      ]
     },
     "execution_count": 17,
     "metadata": {},
     "output_type": "execute_result"
    }
   ],
   "source": [
    "## Renaming the columns\n",
    "occ_tulare2.columns = ['FIPS','EmployedPop','Management, Business, and Financial Ops','Professional and Related','Healthcare Support','Protective Service','Food Preparation and Serving Related','Building and Grounds Cleaning and Maintenance','Personal Care and Service','Sales and Related','Office and Administrative Support','Farming, Fishing, and Forestry','Construction, Extraction, and Maintenance','Production','Transportation and Material Moving']\n",
    "occ_tulare2.head()"
   ]
  },
  {
   "cell_type": "markdown",
   "id": "e359985d-7609-4492-ad4f-d7fbe08cee73",
   "metadata": {},
   "source": [
    "The professions I am interested in focusing on include -- 'Farming, Fishing, and Forestry' (which includes public lands officials and agricultural workers),'Construction, Extraction, and Maintenance' (which includes hazmat workers), 'Building and Grounds Cleaning and Maintenance' (which includes maintenance workers), 'Production' (which includes factory workers), 'Transportation and Material Moving', and 'Professional and Related' (as a possible reference group of residents who likely work in jobs that are more highly compensated and that expose them to fewer environmental risks than the preceding groups)."
   ]
  },
  {
   "cell_type": "code",
   "execution_count": 18,
   "id": "643cbb58-7014-4081-b05a-b0839428fa40",
   "metadata": {},
   "outputs": [
    {
     "name": "stdout",
     "output_type": "stream",
     "text": [
      "1818.1456310679612\n",
      "1744.0\n"
     ]
    }
   ],
   "source": [
    "## Average Population of workers per census tract in Tulare County\n",
    "print(occ_tulare2['EmployedPop'].mean())\n",
    "print(occ_tulare2['EmployedPop'].median())"
   ]
  },
  {
   "cell_type": "code",
   "execution_count": 19,
   "id": "3342f67d-e48b-4edb-99d9-0b5e2ac11766",
   "metadata": {},
   "outputs": [
    {
     "name": "stdout",
     "output_type": "stream",
     "text": [
      "104.55339805825243\n",
      "84.0\n"
     ]
    }
   ],
   "source": [
    "## Average Population of 'Production' workers per census tract in Tulare County\n",
    "print(occ_tulare2['Production'].mean())\n",
    "print(occ_tulare2['Production'].median())"
   ]
  },
  {
   "cell_type": "code",
   "execution_count": 20,
   "id": "67b654ee-5a23-467c-9c60-9030480422ff",
   "metadata": {},
   "outputs": [
    {
     "name": "stdout",
     "output_type": "stream",
     "text": [
      "217.49514563106797\n",
      "162.0\n"
     ]
    }
   ],
   "source": [
    "## Average Population of 'Farming, Fishing, and Forestry' workers per census tract in Tulare County\n",
    "print(occ_tulare2['Farming, Fishing, and Forestry'].mean())\n",
    "print(occ_tulare2['Farming, Fishing, and Forestry'].median())"
   ]
  },
  {
   "cell_type": "code",
   "execution_count": 21,
   "id": "df9b9876-1deb-4e19-be2d-3ca1929bc068",
   "metadata": {},
   "outputs": [
    {
     "name": "stdout",
     "output_type": "stream",
     "text": [
      "138.1747572815534\n",
      "120.0\n"
     ]
    }
   ],
   "source": [
    "## Average Population of 'Construction, Extraction, and Maintenance' workers per census tract in Tulare County\n",
    "print(occ_tulare2['Construction, Extraction, and Maintenance'].mean())\n",
    "print(occ_tulare2['Construction, Extraction, and Maintenance'].median())"
   ]
  },
  {
   "cell_type": "code",
   "execution_count": 22,
   "id": "3f51ef2d-58f3-4cf7-b7af-7db92ea0f46d",
   "metadata": {},
   "outputs": [
    {
     "name": "stdout",
     "output_type": "stream",
     "text": [
      "293.70873786407765\n",
      "211.0\n"
     ]
    }
   ],
   "source": [
    "## Average Population of 'Professional and Related' workers per census tract in Tulare County\n",
    "print(occ_tulare2['Professional and Related'].mean())\n",
    "print(occ_tulare2['Professional and Related'].median())"
   ]
  },
  {
   "cell_type": "code",
   "execution_count": 23,
   "id": "08af7e1c-cc60-4d5a-9897-5853bd15137a",
   "metadata": {},
   "outputs": [
    {
     "name": "stdout",
     "output_type": "stream",
     "text": [
      "184.59223300970874\n",
      "175.0\n"
     ]
    }
   ],
   "source": [
    "## Average Population of 'Transportation and Material Moving' workers per census tract in Tulare County\n",
    "print(occ_tulare2['Transportation and Material Moving'].mean())\n",
    "print(occ_tulare2['Transportation and Material Moving'].median())"
   ]
  },
  {
   "cell_type": "markdown",
   "id": "de2eac57-3510-4213-8584-b4aea74388fc",
   "metadata": {},
   "source": [
    "\n",
    "Professional workers, agricultural and resource management workers, and goods movement workers seem to make up a large proportion of the labor force in Tulare County.\n"
   ]
  },
  {
   "cell_type": "code",
   "execution_count": 24,
   "id": "7c5f4c13-8c9b-47b2-8af1-eece0f1b3274",
   "metadata": {
    "tags": []
   },
   "outputs": [
    {
     "data": {
      "text/plain": [
       "<AxesSubplot: ylabel='Frequency'>"
      ]
     },
     "execution_count": 24,
     "metadata": {},
     "output_type": "execute_result"
    },
    {
     "data": {
      "image/png": "[encoded data removed]",
      "text/plain": [
       "<Figure size 640x480 with 1 Axes>"
      ]
     },
     "metadata": {},
     "output_type": "display_data"
    }
   ],
   "source": [
    "## Distribution of 'Farming, Fishing, and Forestry' workers by census tract\n",
    "occ_tulare2['Farming, Fishing, and Forestry'].plot.hist(bins=50)"
   ]
  },
  {
   "cell_type": "markdown",
   "id": "bb3d8acf-1796-44cf-8351-603e70ef12a7",
   "metadata": {},
   "source": [
    "It looks like there are many census tracts where there are no 'Farming, Fishing, and Forestry' workers, but otherwise they make up between 5 percent to a quarter of the labor force in most census tracts."
   ]
  },
  {
   "cell_type": "code",
   "execution_count": 25,
   "id": "215d6380-dfe9-42b9-a6c5-88dd319ba361",
   "metadata": {},
   "outputs": [
    {
     "data": {
      "text/plain": [
       "<AxesSubplot: ylabel='Frequency'>"
      ]
     },
     "execution_count": 25,
     "metadata": {},
     "output_type": "execute_result"
    },
    {
     "data": {
      "image/png": "[encoded data removed]",
      "text/plain": [
       "<Figure size 640x480 with 1 Axes>"
      ]
     },
     "metadata": {},
     "output_type": "display_data"
    }
   ],
   "source": [
    "## Distribution of 'Construction, Extraction, and Maintenance' workers by census tract\n",
    "occ_tulare2['Construction, Extraction, and Maintenance'].plot.hist(bins=50)"
   ]
  },
  {
   "cell_type": "code",
   "execution_count": 26,
   "id": "364d4970-42bd-40a4-805b-d20270f9fb34",
   "metadata": {},
   "outputs": [
    {
     "data": {
      "text/plain": [
       "<AxesSubplot: xlabel='Professional and Related', ylabel='Farming, Fishing, and Forestry'>"
      ]
     },
     "execution_count": 26,
     "metadata": {},
     "output_type": "execute_result"
    },
    {
     "data": {
      "image/png": "[encoded data removed]",
      "text/plain": [
       "<Figure size 640x480 with 1 Axes>"
      ]
     },
     "metadata": {},
     "output_type": "display_data"
    }
   ],
   "source": [
    "## Examining relationship between professional worker and farm worker residency within census tracts\n",
    "occ_tulare2.plot.scatter(x='Professional and Related',y='Farming, Fishing, and Forestry')"
   ]
  },
  {
   "cell_type": "code",
   "execution_count": 27,
   "id": "8acd279a-a85e-43f6-b2f3-16394e7fd37a",
   "metadata": {},
   "outputs": [
    {
     "data": {
      "text/plain": [
       "<AxesSubplot: xlabel='Professional and Related', ylabel='Construction, Extraction, and Maintenance'>"
      ]
     },
     "execution_count": 27,
     "metadata": {},
     "output_type": "execute_result"
    },
    {
     "data": {
      "image/png": "[encoded data removed]",
      "text/plain": [
       "<Figure size 640x480 with 1 Axes>"
      ]
     },
     "metadata": {},
     "output_type": "display_data"
    }
   ],
   "source": [
    "## Examining relationship between professional worker and extraction worker residency within census tracts\n",
    "occ_tulare2.plot.scatter(x='Professional and Related',y='Construction, Extraction, and Maintenance')"
   ]
  },
  {
   "cell_type": "code",
   "execution_count": 28,
   "id": "4aa1e7fc-6f53-446c-bc71-852f75994a59",
   "metadata": {},
   "outputs": [
    {
     "data": {
      "text/plain": [
       "<AxesSubplot: xlabel='Professional and Related', ylabel='Transportation and Material Moving'>"
      ]
     },
     "execution_count": 28,
     "metadata": {},
     "output_type": "execute_result"
    },
    {
     "data": {
      "image/png": "[encoded data removed]",
      "text/plain": [
       "<Figure size 640x480 with 1 Axes>"
      ]
     },
     "metadata": {},
     "output_type": "display_data"
    }
   ],
   "source": [
    "## Examining relationship between professional worker and goods movement worker residency within census tracts\n",
    "occ_tulare2.plot.scatter(x='Professional and Related',y='Transportation and Material Moving')"
   ]
  },
  {
   "cell_type": "markdown",
   "id": "b3581701-1b7d-45f4-a835-986e5f81b9c0",
   "metadata": {},
   "source": [
    "It seems like census tracts with high populations of professional workers are not likely to have neighbors that work in the goods movement sector, less likely to have neighbors that work in extraction sector, and least likely to have neighbors that work in agriculture."
   ]
  },
  {
   "cell_type": "markdown",
   "id": "2c25d5d4-c8b8-435f-aab4-2d2c1cc06c8e",
   "metadata": {},
   "source": [
    "## Mapping Select Occupation of Residents in Tulare County"
   ]
  },
  {
   "cell_type": "markdown",
   "id": "8030dc2a-9f67-47ab-87e7-07d402b7d57d",
   "metadata": {},
   "source": [
    "I was unable to find premade Tulare County census tract shapefile, so I'm importing Census Block Data from the County's GIS Portal and extracting information from it to create a FIPS variable in what will eventually be a shapefile for Tulare County census tracts."
   ]
  },
  {
   "cell_type": "code",
   "execution_count": 74,
   "id": "1f0641f2-c36f-41c8-ac42-530d0b3945d4",
   "metadata": {},
   "outputs": [],
   "source": [
    "## importing library\n",
    "import geopandas as gpd\n",
    "\n",
    "## opening geojson disability census data from Census Recorder\n",
    "tulare_tracts = gpd.read_file('acs2021_5yr_B99181_14000US06107002303.geojson')"
   ]
  },
  {
   "cell_type": "code",
   "execution_count": 75,
   "id": "63be5271-cdc5-4dce-947c-c1eb96b9500a",
   "metadata": {},
   "outputs": [
    {
     "name": "stdout",
     "output_type": "stream",
     "text": [
      "<class 'geopandas.geodataframe.GeoDataFrame'>\n",
      "RangeIndex: 104 entries, 0 to 103\n",
      "Data columns (total 9 columns):\n",
      " #   Column            Non-Null Count  Dtype   \n",
      "---  ------            --------------  -----   \n",
      " 0   geoid             104 non-null    object  \n",
      " 1   name              104 non-null    object  \n",
      " 2   B99181001         104 non-null    float64 \n",
      " 3   B99181001, Error  104 non-null    float64 \n",
      " 4   B99181002         104 non-null    float64 \n",
      " 5   B99181002, Error  104 non-null    float64 \n",
      " 6   B99181003         104 non-null    float64 \n",
      " 7   B99181003, Error  104 non-null    float64 \n",
      " 8   geometry          104 non-null    geometry\n",
      "dtypes: float64(6), geometry(1), object(2)\n",
      "memory usage: 7.4+ KB\n"
     ]
    }
   ],
   "source": [
    "tulare_tracts.info()"
   ]
  },
  {
   "cell_type": "code",
   "execution_count": 76,
   "id": "193b26c2-65d3-4418-b1f3-391f0906c38e",
   "metadata": {},
   "outputs": [
    {
     "data": {
      "text/html": [
       "<div>\n",
       "<style scoped>\n",
       "    .dataframe tbody tr th:only-of-type {\n",
       "        vertical-align: middle;\n",
       "    }\n",
       "\n",
       "    .dataframe tbody tr th {\n",
       "        vertical-align: top;\n",
       "    }\n",
       "\n",
       "    .dataframe thead th {\n",
       "        text-align: right;\n",
       "    }\n",
       "</style>\n",
       "<table border=\"1\" class=\"dataframe\">\n",
       "  <thead>\n",
       "    <tr style=\"text-align: right;\">\n",
       "      <th></th>\n",
       "      <th>geoid</th>\n",
       "      <th>name</th>\n",
       "      <th>B99181001</th>\n",
       "      <th>B99181001, Error</th>\n",
       "      <th>B99181002</th>\n",
       "      <th>B99181002, Error</th>\n",
       "      <th>B99181003</th>\n",
       "      <th>B99181003, Error</th>\n",
       "      <th>geometry</th>\n",
       "    </tr>\n",
       "  </thead>\n",
       "  <tbody>\n",
       "    <tr>\n",
       "      <th>0</th>\n",
       "      <td>05000US06107</td>\n",
       "      <td>Tulare County, CA</td>\n",
       "      <td>466519.0</td>\n",
       "      <td>-1.0</td>\n",
       "      <td>53287.0</td>\n",
       "      <td>-1.0</td>\n",
       "      <td>413232.0</td>\n",
       "      <td>-1.0</td>\n",
       "      <td>MULTIPOLYGON (((-118.80244 35.79017, -118.8027...</td>\n",
       "    </tr>\n",
       "    <tr>\n",
       "      <th>1</th>\n",
       "      <td>14000US06107000101</td>\n",
       "      <td>Census Tract 1.01, Tulare, CA</td>\n",
       "      <td>2535.0</td>\n",
       "      <td>-1.0</td>\n",
       "      <td>245.0</td>\n",
       "      <td>-1.0</td>\n",
       "      <td>2290.0</td>\n",
       "      <td>-1.0</td>\n",
       "      <td>MULTIPOLYGON (((-119.07932 36.32554, -119.0787...</td>\n",
       "    </tr>\n",
       "    <tr>\n",
       "      <th>2</th>\n",
       "      <td>14000US06107000102</td>\n",
       "      <td>Census Tract 1.02, Tulare, CA</td>\n",
       "      <td>2417.0</td>\n",
       "      <td>-1.0</td>\n",
       "      <td>318.0</td>\n",
       "      <td>-1.0</td>\n",
       "      <td>2099.0</td>\n",
       "      <td>-1.0</td>\n",
       "      <td>MULTIPOLYGON (((-119.24651 36.51340, -119.2462...</td>\n",
       "    </tr>\n",
       "    <tr>\n",
       "      <th>3</th>\n",
       "      <td>14000US06107000202</td>\n",
       "      <td>Census Tract 2.02, Tulare, CA</td>\n",
       "      <td>2579.0</td>\n",
       "      <td>-1.0</td>\n",
       "      <td>173.0</td>\n",
       "      <td>-1.0</td>\n",
       "      <td>2406.0</td>\n",
       "      <td>-1.0</td>\n",
       "      <td>MULTIPOLYGON (((-119.32270 36.54527, -119.3218...</td>\n",
       "    </tr>\n",
       "    <tr>\n",
       "      <th>4</th>\n",
       "      <td>14000US06107000203</td>\n",
       "      <td>Census Tract 2.03, Tulare, CA</td>\n",
       "      <td>4835.0</td>\n",
       "      <td>-1.0</td>\n",
       "      <td>390.0</td>\n",
       "      <td>-1.0</td>\n",
       "      <td>4445.0</td>\n",
       "      <td>-1.0</td>\n",
       "      <td>MULTIPOLYGON (((-119.30507 36.54962, -119.3050...</td>\n",
       "    </tr>\n",
       "  </tbody>\n",
       "</table>\n",
       "</div>"
      ],
      "text/plain": [
       "                geoid                           name  B99181001  \\\n",
       "0        05000US06107              Tulare County, CA   466519.0   \n",
       "1  14000US06107000101  Census Tract 1.01, Tulare, CA     2535.0   \n",
       "2  14000US06107000102  Census Tract 1.02, Tulare, CA     2417.0   \n",
       "3  14000US06107000202  Census Tract 2.02, Tulare, CA     2579.0   \n",
       "4  14000US06107000203  Census Tract 2.03, Tulare, CA     4835.0   \n",
       "\n",
       "   B99181001, Error  B99181002  B99181002, Error  B99181003  B99181003, Error  \\\n",
       "0              -1.0    53287.0              -1.0   413232.0              -1.0   \n",
       "1              -1.0      245.0              -1.0     2290.0              -1.0   \n",
       "2              -1.0      318.0              -1.0     2099.0              -1.0   \n",
       "3              -1.0      173.0              -1.0     2406.0              -1.0   \n",
       "4              -1.0      390.0              -1.0     4445.0              -1.0   \n",
       "\n",
       "                                            geometry  \n",
       "0  MULTIPOLYGON (((-118.80244 35.79017, -118.8027...  \n",
       "1  MULTIPOLYGON (((-119.07932 36.32554, -119.0787...  \n",
       "2  MULTIPOLYGON (((-119.24651 36.51340, -119.2462...  \n",
       "3  MULTIPOLYGON (((-119.32270 36.54527, -119.3218...  \n",
       "4  MULTIPOLYGON (((-119.30507 36.54962, -119.3050...  "
      ]
     },
     "execution_count": 76,
     "metadata": {},
     "output_type": "execute_result"
    }
   ],
   "source": [
    "tulare_tracts.head()"
   ]
  },
  {
   "cell_type": "code",
   "execution_count": 77,
   "id": "3d590bef-5bc4-4250-9764-b4d5238f7dba",
   "metadata": {},
   "outputs": [
    {
     "data": {
      "text/html": [
       "<div>\n",
       "<style scoped>\n",
       "    .dataframe tbody tr th:only-of-type {\n",
       "        vertical-align: middle;\n",
       "    }\n",
       "\n",
       "    .dataframe tbody tr th {\n",
       "        vertical-align: top;\n",
       "    }\n",
       "\n",
       "    .dataframe thead th {\n",
       "        text-align: right;\n",
       "    }\n",
       "</style>\n",
       "<table border=\"1\" class=\"dataframe\">\n",
       "  <thead>\n",
       "    <tr style=\"text-align: right;\">\n",
       "      <th></th>\n",
       "      <th>geoid</th>\n",
       "      <th>geometry</th>\n",
       "    </tr>\n",
       "  </thead>\n",
       "  <tbody>\n",
       "    <tr>\n",
       "      <th>0</th>\n",
       "      <td>05000US06107</td>\n",
       "      <td>MULTIPOLYGON (((-118.80244 35.79017, -118.8027...</td>\n",
       "    </tr>\n",
       "    <tr>\n",
       "      <th>1</th>\n",
       "      <td>14000US06107000101</td>\n",
       "      <td>MULTIPOLYGON (((-119.07932 36.32554, -119.0787...</td>\n",
       "    </tr>\n",
       "    <tr>\n",
       "      <th>2</th>\n",
       "      <td>14000US06107000102</td>\n",
       "      <td>MULTIPOLYGON (((-119.24651 36.51340, -119.2462...</td>\n",
       "    </tr>\n",
       "    <tr>\n",
       "      <th>3</th>\n",
       "      <td>14000US06107000202</td>\n",
       "      <td>MULTIPOLYGON (((-119.32270 36.54527, -119.3218...</td>\n",
       "    </tr>\n",
       "    <tr>\n",
       "      <th>4</th>\n",
       "      <td>14000US06107000203</td>\n",
       "      <td>MULTIPOLYGON (((-119.30507 36.54962, -119.3050...</td>\n",
       "    </tr>\n",
       "    <tr>\n",
       "      <th>...</th>\n",
       "      <td>...</td>\n",
       "      <td>...</td>\n",
       "    </tr>\n",
       "    <tr>\n",
       "      <th>99</th>\n",
       "      <td>14000US06107004301</td>\n",
       "      <td>MULTIPOLYGON (((-119.25041 35.89190, -119.2486...</td>\n",
       "    </tr>\n",
       "    <tr>\n",
       "      <th>100</th>\n",
       "      <td>14000US06107004302</td>\n",
       "      <td>MULTIPOLYGON (((-119.53806 35.79706, -119.5380...</td>\n",
       "    </tr>\n",
       "    <tr>\n",
       "      <th>101</th>\n",
       "      <td>14000US06107004401</td>\n",
       "      <td>MULTIPOLYGON (((-119.28591 35.88358, -119.2859...</td>\n",
       "    </tr>\n",
       "    <tr>\n",
       "      <th>102</th>\n",
       "      <td>14000US06107004402</td>\n",
       "      <td>MULTIPOLYGON (((-119.28593 35.87828, -119.2859...</td>\n",
       "    </tr>\n",
       "    <tr>\n",
       "      <th>103</th>\n",
       "      <td>14000US06107004500</td>\n",
       "      <td>MULTIPOLYGON (((-119.10783 35.89467, -119.1078...</td>\n",
       "    </tr>\n",
       "  </tbody>\n",
       "</table>\n",
       "<p>104 rows × 2 columns</p>\n",
       "</div>"
      ],
      "text/plain": [
       "                  geoid                                           geometry\n",
       "0          05000US06107  MULTIPOLYGON (((-118.80244 35.79017, -118.8027...\n",
       "1    14000US06107000101  MULTIPOLYGON (((-119.07932 36.32554, -119.0787...\n",
       "2    14000US06107000102  MULTIPOLYGON (((-119.24651 36.51340, -119.2462...\n",
       "3    14000US06107000202  MULTIPOLYGON (((-119.32270 36.54527, -119.3218...\n",
       "4    14000US06107000203  MULTIPOLYGON (((-119.30507 36.54962, -119.3050...\n",
       "..                  ...                                                ...\n",
       "99   14000US06107004301  MULTIPOLYGON (((-119.25041 35.89190, -119.2486...\n",
       "100  14000US06107004302  MULTIPOLYGON (((-119.53806 35.79706, -119.5380...\n",
       "101  14000US06107004401  MULTIPOLYGON (((-119.28591 35.88358, -119.2859...\n",
       "102  14000US06107004402  MULTIPOLYGON (((-119.28593 35.87828, -119.2859...\n",
       "103  14000US06107004500  MULTIPOLYGON (((-119.10783 35.89467, -119.1078...\n",
       "\n",
       "[104 rows x 2 columns]"
      ]
     },
     "execution_count": 77,
     "metadata": {},
     "output_type": "execute_result"
    }
   ],
   "source": [
    "## Creating FIPS variable from Tulare Census Block shapefile (with three variables in the data) needed to merge with Social Explorer data\n",
    "\n",
    "## Trimming disability dataset from Census Recorder\n",
    "tularetracts = tulare_tracts[['geoid','geometry']].copy()\n",
    "tularetracts"
   ]
  },
  {
   "cell_type": "code",
   "execution_count": 78,
   "id": "45553f0c-7769-4717-b600-cf11c6ce5ade",
   "metadata": {},
   "outputs": [],
   "source": [
    "## Creating a 'FIPS' variable using the 'geoid' variable\n",
    "tularetracts['FIPS'] = tularetracts['geoid']"
   ]
  },
  {
   "cell_type": "code",
   "execution_count": 79,
   "id": "c34f344a-be29-4ba2-b720-561daaee2aaa",
   "metadata": {},
   "outputs": [
    {
     "data": {
      "text/plain": [
       "0          05000US06107\n",
       "1    14000US06107000101\n",
       "2    14000US06107000102\n",
       "3    14000US06107000202\n",
       "4    14000US06107000203\n",
       "Name: FIPS, dtype: object"
      ]
     },
     "execution_count": 79,
     "metadata": {},
     "output_type": "execute_result"
    }
   ],
   "source": [
    "tularetracts['FIPS'].head()"
   ]
  },
  {
   "cell_type": "code",
   "execution_count": 80,
   "id": "cc163256-b99a-4ba1-91ed-960b5acbc7da",
   "metadata": {},
   "outputs": [
    {
     "data": {
      "text/html": [
       "<div>\n",
       "<style scoped>\n",
       "    .dataframe tbody tr th:only-of-type {\n",
       "        vertical-align: middle;\n",
       "    }\n",
       "\n",
       "    .dataframe tbody tr th {\n",
       "        vertical-align: top;\n",
       "    }\n",
       "\n",
       "    .dataframe thead th {\n",
       "        text-align: right;\n",
       "    }\n",
       "</style>\n",
       "<table border=\"1\" class=\"dataframe\">\n",
       "  <thead>\n",
       "    <tr style=\"text-align: right;\">\n",
       "      <th></th>\n",
       "      <th>geoid</th>\n",
       "      <th>geometry</th>\n",
       "      <th>FIPS</th>\n",
       "    </tr>\n",
       "  </thead>\n",
       "  <tbody>\n",
       "    <tr>\n",
       "      <th>1</th>\n",
       "      <td>14000US06107000101</td>\n",
       "      <td>MULTIPOLYGON (((-119.07932 36.32554, -119.0787...</td>\n",
       "      <td>14000US06107000101</td>\n",
       "    </tr>\n",
       "    <tr>\n",
       "      <th>2</th>\n",
       "      <td>14000US06107000102</td>\n",
       "      <td>MULTIPOLYGON (((-119.24651 36.51340, -119.2462...</td>\n",
       "      <td>14000US06107000102</td>\n",
       "    </tr>\n",
       "    <tr>\n",
       "      <th>3</th>\n",
       "      <td>14000US06107000202</td>\n",
       "      <td>MULTIPOLYGON (((-119.32270 36.54527, -119.3218...</td>\n",
       "      <td>14000US06107000202</td>\n",
       "    </tr>\n",
       "    <tr>\n",
       "      <th>4</th>\n",
       "      <td>14000US06107000203</td>\n",
       "      <td>MULTIPOLYGON (((-119.30507 36.54962, -119.3050...</td>\n",
       "      <td>14000US06107000203</td>\n",
       "    </tr>\n",
       "    <tr>\n",
       "      <th>5</th>\n",
       "      <td>14000US06107000204</td>\n",
       "      <td>MULTIPOLYGON (((-119.30499 36.54494, -119.3050...</td>\n",
       "      <td>14000US06107000204</td>\n",
       "    </tr>\n",
       "    <tr>\n",
       "      <th>...</th>\n",
       "      <td>...</td>\n",
       "      <td>...</td>\n",
       "      <td>...</td>\n",
       "    </tr>\n",
       "    <tr>\n",
       "      <th>99</th>\n",
       "      <td>14000US06107004301</td>\n",
       "      <td>MULTIPOLYGON (((-119.25041 35.89190, -119.2486...</td>\n",
       "      <td>14000US06107004301</td>\n",
       "    </tr>\n",
       "    <tr>\n",
       "      <th>100</th>\n",
       "      <td>14000US06107004302</td>\n",
       "      <td>MULTIPOLYGON (((-119.53806 35.79706, -119.5380...</td>\n",
       "      <td>14000US06107004302</td>\n",
       "    </tr>\n",
       "    <tr>\n",
       "      <th>101</th>\n",
       "      <td>14000US06107004401</td>\n",
       "      <td>MULTIPOLYGON (((-119.28591 35.88358, -119.2859...</td>\n",
       "      <td>14000US06107004401</td>\n",
       "    </tr>\n",
       "    <tr>\n",
       "      <th>102</th>\n",
       "      <td>14000US06107004402</td>\n",
       "      <td>MULTIPOLYGON (((-119.28593 35.87828, -119.2859...</td>\n",
       "      <td>14000US06107004402</td>\n",
       "    </tr>\n",
       "    <tr>\n",
       "      <th>103</th>\n",
       "      <td>14000US06107004500</td>\n",
       "      <td>MULTIPOLYGON (((-119.10783 35.89467, -119.1078...</td>\n",
       "      <td>14000US06107004500</td>\n",
       "    </tr>\n",
       "  </tbody>\n",
       "</table>\n",
       "<p>103 rows × 3 columns</p>\n",
       "</div>"
      ],
      "text/plain": [
       "                  geoid                                           geometry  \\\n",
       "1    14000US06107000101  MULTIPOLYGON (((-119.07932 36.32554, -119.0787...   \n",
       "2    14000US06107000102  MULTIPOLYGON (((-119.24651 36.51340, -119.2462...   \n",
       "3    14000US06107000202  MULTIPOLYGON (((-119.32270 36.54527, -119.3218...   \n",
       "4    14000US06107000203  MULTIPOLYGON (((-119.30507 36.54962, -119.3050...   \n",
       "5    14000US06107000204  MULTIPOLYGON (((-119.30499 36.54494, -119.3050...   \n",
       "..                  ...                                                ...   \n",
       "99   14000US06107004301  MULTIPOLYGON (((-119.25041 35.89190, -119.2486...   \n",
       "100  14000US06107004302  MULTIPOLYGON (((-119.53806 35.79706, -119.5380...   \n",
       "101  14000US06107004401  MULTIPOLYGON (((-119.28591 35.88358, -119.2859...   \n",
       "102  14000US06107004402  MULTIPOLYGON (((-119.28593 35.87828, -119.2859...   \n",
       "103  14000US06107004500  MULTIPOLYGON (((-119.10783 35.89467, -119.1078...   \n",
       "\n",
       "                   FIPS  \n",
       "1    14000US06107000101  \n",
       "2    14000US06107000102  \n",
       "3    14000US06107000202  \n",
       "4    14000US06107000203  \n",
       "5    14000US06107000204  \n",
       "..                  ...  \n",
       "99   14000US06107004301  \n",
       "100  14000US06107004302  \n",
       "101  14000US06107004401  \n",
       "102  14000US06107004402  \n",
       "103  14000US06107004500  \n",
       "\n",
       "[103 rows x 3 columns]"
      ]
     },
     "execution_count": 80,
     "metadata": {},
     "output_type": "execute_result"
    }
   ],
   "source": [
    "tularetracts = tularetracts.loc[1:104].copy()\n",
    "tularetracts"
   ]
  },
  {
   "cell_type": "code",
   "execution_count": 83,
   "id": "07a831d0-c236-4742-9890-2348998ed865",
   "metadata": {},
   "outputs": [
    {
     "data": {
      "text/plain": [
       "1      06107000101\n",
       "2      06107000102\n",
       "3      06107000202\n",
       "4      06107000203\n",
       "5      06107000204\n",
       "          ...     \n",
       "99     06107004301\n",
       "100    06107004302\n",
       "101    06107004401\n",
       "102    06107004402\n",
       "103    06107004500\n",
       "Name: FIPS, Length: 103, dtype: object"
      ]
     },
     "execution_count": 83,
     "metadata": {},
     "output_type": "execute_result"
    }
   ],
   "source": [
    "tularetracts['FIPS'] = '0'+tularetracts2['FIPS'].str.lstrip('14000US')\n",
    "tularetracts['FIPS'].copy()"
   ]
  },
  {
   "cell_type": "code",
   "execution_count": 84,
   "id": "14e868f3-5dc0-453b-a20c-d6ccce740df0",
   "metadata": {},
   "outputs": [
    {
     "data": {
      "text/html": [
       "<div>\n",
       "<style scoped>\n",
       "    .dataframe tbody tr th:only-of-type {\n",
       "        vertical-align: middle;\n",
       "    }\n",
       "\n",
       "    .dataframe tbody tr th {\n",
       "        vertical-align: top;\n",
       "    }\n",
       "\n",
       "    .dataframe thead th {\n",
       "        text-align: right;\n",
       "    }\n",
       "</style>\n",
       "<table border=\"1\" class=\"dataframe\">\n",
       "  <thead>\n",
       "    <tr style=\"text-align: right;\">\n",
       "      <th></th>\n",
       "      <th>geoid</th>\n",
       "      <th>geometry</th>\n",
       "      <th>FIPS</th>\n",
       "    </tr>\n",
       "  </thead>\n",
       "  <tbody>\n",
       "    <tr>\n",
       "      <th>1</th>\n",
       "      <td>14000US06107000101</td>\n",
       "      <td>MULTIPOLYGON (((-119.07932 36.32554, -119.0787...</td>\n",
       "      <td>06107000101</td>\n",
       "    </tr>\n",
       "    <tr>\n",
       "      <th>2</th>\n",
       "      <td>14000US06107000102</td>\n",
       "      <td>MULTIPOLYGON (((-119.24651 36.51340, -119.2462...</td>\n",
       "      <td>06107000102</td>\n",
       "    </tr>\n",
       "    <tr>\n",
       "      <th>3</th>\n",
       "      <td>14000US06107000202</td>\n",
       "      <td>MULTIPOLYGON (((-119.32270 36.54527, -119.3218...</td>\n",
       "      <td>06107000202</td>\n",
       "    </tr>\n",
       "    <tr>\n",
       "      <th>4</th>\n",
       "      <td>14000US06107000203</td>\n",
       "      <td>MULTIPOLYGON (((-119.30507 36.54962, -119.3050...</td>\n",
       "      <td>06107000203</td>\n",
       "    </tr>\n",
       "    <tr>\n",
       "      <th>5</th>\n",
       "      <td>14000US06107000204</td>\n",
       "      <td>MULTIPOLYGON (((-119.30499 36.54494, -119.3050...</td>\n",
       "      <td>06107000204</td>\n",
       "    </tr>\n",
       "  </tbody>\n",
       "</table>\n",
       "</div>"
      ],
      "text/plain": [
       "                geoid                                           geometry  \\\n",
       "1  14000US06107000101  MULTIPOLYGON (((-119.07932 36.32554, -119.0787...   \n",
       "2  14000US06107000102  MULTIPOLYGON (((-119.24651 36.51340, -119.2462...   \n",
       "3  14000US06107000202  MULTIPOLYGON (((-119.32270 36.54527, -119.3218...   \n",
       "4  14000US06107000203  MULTIPOLYGON (((-119.30507 36.54962, -119.3050...   \n",
       "5  14000US06107000204  MULTIPOLYGON (((-119.30499 36.54494, -119.3050...   \n",
       "\n",
       "          FIPS  \n",
       "1  06107000101  \n",
       "2  06107000102  \n",
       "3  06107000202  \n",
       "4  06107000203  \n",
       "5  06107000204  "
      ]
     },
     "execution_count": 84,
     "metadata": {},
     "output_type": "execute_result"
    }
   ],
   "source": [
    "tularetracts.head()"
   ]
  },
  {
   "cell_type": "code",
   "execution_count": 85,
   "id": "03c30a78-9153-4a64-b336-ecf97f0fc299",
   "metadata": {},
   "outputs": [
    {
     "data": {
      "text/html": [
       "<div>\n",
       "<style scoped>\n",
       "    .dataframe tbody tr th:only-of-type {\n",
       "        vertical-align: middle;\n",
       "    }\n",
       "\n",
       "    .dataframe tbody tr th {\n",
       "        vertical-align: top;\n",
       "    }\n",
       "\n",
       "    .dataframe thead th {\n",
       "        text-align: right;\n",
       "    }\n",
       "</style>\n",
       "<table border=\"1\" class=\"dataframe\">\n",
       "  <thead>\n",
       "    <tr style=\"text-align: right;\">\n",
       "      <th></th>\n",
       "      <th>geoid</th>\n",
       "      <th>geometry</th>\n",
       "      <th>FIPS</th>\n",
       "      <th>EmployedPop</th>\n",
       "      <th>Management, Business, and Financial Ops</th>\n",
       "      <th>Professional and Related</th>\n",
       "      <th>Healthcare Support</th>\n",
       "      <th>Protective Service</th>\n",
       "      <th>Food Preparation and Serving Related</th>\n",
       "      <th>Building and Grounds Cleaning and Maintenance</th>\n",
       "      <th>Personal Care and Service</th>\n",
       "      <th>Sales and Related</th>\n",
       "      <th>Office and Administrative Support</th>\n",
       "      <th>Farming, Fishing, and Forestry</th>\n",
       "      <th>Construction, Extraction, and Maintenance</th>\n",
       "      <th>Production</th>\n",
       "      <th>Transportation and Material Moving</th>\n",
       "    </tr>\n",
       "  </thead>\n",
       "  <tbody>\n",
       "    <tr>\n",
       "      <th>98</th>\n",
       "      <td>14000US06107004301</td>\n",
       "      <td>MULTIPOLYGON (((-119.25041 35.89190, -119.2486...</td>\n",
       "      <td>06107004301</td>\n",
       "      <td>1128</td>\n",
       "      <td>53</td>\n",
       "      <td>102</td>\n",
       "      <td>8</td>\n",
       "      <td>0</td>\n",
       "      <td>31</td>\n",
       "      <td>29</td>\n",
       "      <td>18</td>\n",
       "      <td>26</td>\n",
       "      <td>24</td>\n",
       "      <td>614</td>\n",
       "      <td>32</td>\n",
       "      <td>103</td>\n",
       "      <td>88</td>\n",
       "    </tr>\n",
       "    <tr>\n",
       "      <th>99</th>\n",
       "      <td>14000US06107004302</td>\n",
       "      <td>MULTIPOLYGON (((-119.53806 35.79706, -119.5380...</td>\n",
       "      <td>06107004302</td>\n",
       "      <td>909</td>\n",
       "      <td>83</td>\n",
       "      <td>32</td>\n",
       "      <td>22</td>\n",
       "      <td>10</td>\n",
       "      <td>26</td>\n",
       "      <td>29</td>\n",
       "      <td>13</td>\n",
       "      <td>30</td>\n",
       "      <td>36</td>\n",
       "      <td>431</td>\n",
       "      <td>103</td>\n",
       "      <td>37</td>\n",
       "      <td>57</td>\n",
       "    </tr>\n",
       "    <tr>\n",
       "      <th>100</th>\n",
       "      <td>14000US06107004401</td>\n",
       "      <td>MULTIPOLYGON (((-119.28591 35.88358, -119.2859...</td>\n",
       "      <td>06107004401</td>\n",
       "      <td>1850</td>\n",
       "      <td>84</td>\n",
       "      <td>51</td>\n",
       "      <td>129</td>\n",
       "      <td>41</td>\n",
       "      <td>43</td>\n",
       "      <td>147</td>\n",
       "      <td>0</td>\n",
       "      <td>105</td>\n",
       "      <td>125</td>\n",
       "      <td>755</td>\n",
       "      <td>216</td>\n",
       "      <td>57</td>\n",
       "      <td>97</td>\n",
       "    </tr>\n",
       "    <tr>\n",
       "      <th>101</th>\n",
       "      <td>14000US06107004402</td>\n",
       "      <td>MULTIPOLYGON (((-119.28593 35.87828, -119.2859...</td>\n",
       "      <td>06107004402</td>\n",
       "      <td>1399</td>\n",
       "      <td>57</td>\n",
       "      <td>70</td>\n",
       "      <td>48</td>\n",
       "      <td>30</td>\n",
       "      <td>61</td>\n",
       "      <td>0</td>\n",
       "      <td>24</td>\n",
       "      <td>164</td>\n",
       "      <td>131</td>\n",
       "      <td>601</td>\n",
       "      <td>25</td>\n",
       "      <td>96</td>\n",
       "      <td>92</td>\n",
       "    </tr>\n",
       "    <tr>\n",
       "      <th>102</th>\n",
       "      <td>14000US06107004500</td>\n",
       "      <td>MULTIPOLYGON (((-119.10783 35.89467, -119.1078...</td>\n",
       "      <td>06107004500</td>\n",
       "      <td>1733</td>\n",
       "      <td>230</td>\n",
       "      <td>179</td>\n",
       "      <td>88</td>\n",
       "      <td>24</td>\n",
       "      <td>46</td>\n",
       "      <td>52</td>\n",
       "      <td>103</td>\n",
       "      <td>144</td>\n",
       "      <td>161</td>\n",
       "      <td>287</td>\n",
       "      <td>149</td>\n",
       "      <td>48</td>\n",
       "      <td>222</td>\n",
       "    </tr>\n",
       "  </tbody>\n",
       "</table>\n",
       "</div>"
      ],
      "text/plain": [
       "                  geoid                                           geometry  \\\n",
       "98   14000US06107004301  MULTIPOLYGON (((-119.25041 35.89190, -119.2486...   \n",
       "99   14000US06107004302  MULTIPOLYGON (((-119.53806 35.79706, -119.5380...   \n",
       "100  14000US06107004401  MULTIPOLYGON (((-119.28591 35.88358, -119.2859...   \n",
       "101  14000US06107004402  MULTIPOLYGON (((-119.28593 35.87828, -119.2859...   \n",
       "102  14000US06107004500  MULTIPOLYGON (((-119.10783 35.89467, -119.1078...   \n",
       "\n",
       "            FIPS  EmployedPop  Management, Business, and Financial Ops  \\\n",
       "98   06107004301         1128                                       53   \n",
       "99   06107004302          909                                       83   \n",
       "100  06107004401         1850                                       84   \n",
       "101  06107004402         1399                                       57   \n",
       "102  06107004500         1733                                      230   \n",
       "\n",
       "     Professional and Related  Healthcare Support  Protective Service  \\\n",
       "98                        102                   8                   0   \n",
       "99                         32                  22                  10   \n",
       "100                        51                 129                  41   \n",
       "101                        70                  48                  30   \n",
       "102                       179                  88                  24   \n",
       "\n",
       "     Food Preparation and Serving Related  \\\n",
       "98                                     31   \n",
       "99                                     26   \n",
       "100                                    43   \n",
       "101                                    61   \n",
       "102                                    46   \n",
       "\n",
       "     Building and Grounds Cleaning and Maintenance  Personal Care and Service  \\\n",
       "98                                              29                         18   \n",
       "99                                              29                         13   \n",
       "100                                            147                          0   \n",
       "101                                              0                         24   \n",
       "102                                             52                        103   \n",
       "\n",
       "     Sales and Related  Office and Administrative Support  \\\n",
       "98                  26                                 24   \n",
       "99                  30                                 36   \n",
       "100                105                                125   \n",
       "101                164                                131   \n",
       "102                144                                161   \n",
       "\n",
       "     Farming, Fishing, and Forestry  \\\n",
       "98                              614   \n",
       "99                              431   \n",
       "100                             755   \n",
       "101                             601   \n",
       "102                             287   \n",
       "\n",
       "     Construction, Extraction, and Maintenance  Production  \\\n",
       "98                                          32         103   \n",
       "99                                         103          37   \n",
       "100                                        216          57   \n",
       "101                                         25          96   \n",
       "102                                        149          48   \n",
       "\n",
       "     Transportation and Material Moving  \n",
       "98                                   88  \n",
       "99                                   57  \n",
       "100                                  97  \n",
       "101                                  92  \n",
       "102                                 222  "
      ]
     },
     "execution_count": 85,
     "metadata": {},
     "output_type": "execute_result"
    }
   ],
   "source": [
    "## Merging Tulare County Census Tract shapefile with Occupation data for Tulare County\n",
    "tulare_occ_tracts = tularetracts.merge(occ_tulare2,on=\"FIPS\")\n",
    "## Confirming that the data has been merged\n",
    "tulare_occ_tracts.tail()"
   ]
  },
  {
   "cell_type": "code",
   "execution_count": 86,
   "id": "7a64062b-87a8-4156-8f81-49a7e2a70aca",
   "metadata": {},
   "outputs": [
    {
     "name": "stdout",
     "output_type": "stream",
     "text": [
      "<class 'geopandas.geodataframe.GeoDataFrame'>\n",
      "Int64Index: 103 entries, 0 to 102\n",
      "Data columns (total 17 columns):\n",
      " #   Column                                         Non-Null Count  Dtype   \n",
      "---  ------                                         --------------  -----   \n",
      " 0   geoid                                          103 non-null    object  \n",
      " 1   geometry                                       103 non-null    geometry\n",
      " 2   FIPS                                           103 non-null    object  \n",
      " 3   EmployedPop                                    103 non-null    int64   \n",
      " 4   Management, Business, and Financial Ops        103 non-null    int64   \n",
      " 5   Professional and Related                       103 non-null    int64   \n",
      " 6   Healthcare Support                             103 non-null    int64   \n",
      " 7   Protective Service                             103 non-null    int64   \n",
      " 8   Food Preparation and Serving Related           103 non-null    int64   \n",
      " 9   Building and Grounds Cleaning and Maintenance  103 non-null    int64   \n",
      " 10  Personal Care and Service                      103 non-null    int64   \n",
      " 11  Sales and Related                              103 non-null    int64   \n",
      " 12  Office and Administrative Support              103 non-null    int64   \n",
      " 13  Farming, Fishing, and Forestry                 103 non-null    int64   \n",
      " 14  Construction, Extraction, and Maintenance      103 non-null    int64   \n",
      " 15  Production                                     103 non-null    int64   \n",
      " 16  Transportation and Material Moving             103 non-null    int64   \n",
      "dtypes: geometry(1), int64(14), object(2)\n",
      "memory usage: 14.5+ KB\n"
     ]
    }
   ],
   "source": [
    "tulare_occ_tracts.info()"
   ]
  },
  {
   "cell_type": "markdown",
   "id": "75dc4300-63be-41c2-b5a2-3bafe7cd4147",
   "metadata": {},
   "source": [
    "## Comparing the Distribution of Residents by Occupation in Tulare County\n",
    "What can the occupation distributions tell us about potential income distribution/and health outcomes in certain census tracts?"
   ]
  },
  {
   "cell_type": "code",
   "execution_count": 87,
   "id": "28880a4c-8ef1-4784-a898-b299f7ed3e5d",
   "metadata": {},
   "outputs": [
    {
     "name": "stderr",
     "output_type": "stream",
     "text": [
      "/opt/conda/lib/python3.10/site-packages/geopandas/plotting.py:642: FutureWarning: 'colormap' is deprecated, please use 'cmap' instead (for consistency with matplotlib)\n",
      "  warnings.warn(\n"
     ]
    },
    {
     "data": {
      "text/plain": [
       "<AxesSubplot: >"
      ]
     },
     "execution_count": 87,
     "metadata": {},
     "output_type": "execute_result"
    },
    {
     "data": {
      "image/png": "[encoded data removed]",
      "text/plain": [
       "<Figure size 1200x1000 with 1 Axes>"
      ]
     },
     "metadata": {},
     "output_type": "display_data"
    }
   ],
   "source": [
    "## Mapping occupation of residents who work in agriculture and public lands management in Tulare County\n",
    "tulare_occ_tracts.plot(figsize=(12,10),\n",
    "                 column='Farming, Fishing, and Forestry',\n",
    "                 legend=True, \n",
    "                colormap='Oranges',\n",
    "                 scheme='NaturalBreaks')"
   ]
  },
  {
   "cell_type": "code",
   "execution_count": 88,
   "id": "86f0f347-4508-423c-aab6-72e60f58e3ca",
   "metadata": {},
   "outputs": [
    {
     "name": "stderr",
     "output_type": "stream",
     "text": [
      "/opt/conda/lib/python3.10/site-packages/geopandas/plotting.py:642: FutureWarning: 'colormap' is deprecated, please use 'cmap' instead (for consistency with matplotlib)\n",
      "  warnings.warn(\n"
     ]
    },
    {
     "data": {
      "text/plain": [
       "<AxesSubplot: >"
      ]
     },
     "execution_count": 88,
     "metadata": {},
     "output_type": "execute_result"
    },
    {
     "data": {
      "image/png": "[encoded data removed]",
      "text/plain": [
       "<Figure size 1200x1000 with 1 Axes>"
      ]
     },
     "metadata": {},
     "output_type": "display_data"
    }
   ],
   "source": [
    "## Mapping occupation of residents who work in professional jobs in Tulare County\n",
    "tulare_occ_tracts.plot(figsize=(12,10),\n",
    "                 column='Professional and Related',\n",
    "                 legend=True, \n",
    "                colormap='Blues',\n",
    "                 scheme='NaturalBreaks')"
   ]
  },
  {
   "cell_type": "markdown",
   "id": "5e8e629c-021d-4afd-8545-ea7b353ab764",
   "metadata": {},
   "source": [
    "It's hard to say definitively, but it looks like the the census tracts in Tulare County are stratified by occupation. The maps indicate that the tracts that have a higher number of professional workers seem to have a lower number of agricultural and resource management workers.\n",
    "\n",
    "It will be interesting to see what kind of story this information will reveal once it's paired with data on (1) the location of oil wells in the County, (2) income distributions by census tract, and (3) health outcomes by census tracts."
   ]
  },
  {
   "cell_type": "code",
   "execution_count": null,
   "id": "ec788b8d-a3cf-496c-9cac-52bbac006a35",
   "metadata": {},
   "outputs": [],
   "source": []
  }
 ],
 "metadata": {
  "kernelspec": {
   "display_name": "Python 3 (ipykernel)",
   "language": "python",
   "name": "python3"
  },
  "language_info": {
   "codemirror_mode": {
    "name": "ipython",
    "version": 3
   },
   "file_extension": ".py",
   "mimetype": "text/x-python",
   "name": "python",
   "nbconvert_exporter": "python",
   "pygments_lexer": "ipython3",
   "version": "3.10.8"
  }
 },
 "nbformat": 4,
 "nbformat_minor": 5
}
